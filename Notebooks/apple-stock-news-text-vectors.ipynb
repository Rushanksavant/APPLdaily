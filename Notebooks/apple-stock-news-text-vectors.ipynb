{
 "cells": [
  {
   "cell_type": "code",
   "execution_count": 1,
   "metadata": {
    "_cell_guid": "b1076dfc-b9ad-4769-8c92-a6c4dae69d19",
    "_uuid": "8f2839f25d086af736a60e9eeb907d3b93b6e0e5",
    "execution": {
     "iopub.execute_input": "2020-12-16T19:29:18.947225Z",
     "iopub.status.busy": "2020-12-16T19:29:18.946498Z",
     "iopub.status.idle": "2020-12-16T19:29:20.558987Z",
     "shell.execute_reply": "2020-12-16T19:29:20.557717Z"
    },
    "papermill": {
     "duration": 1.637115,
     "end_time": "2020-12-16T19:29:20.559132",
     "exception": false,
     "start_time": "2020-12-16T19:29:18.922017",
     "status": "completed"
    },
    "tags": []
   },
   "outputs": [],
   "source": [
    "# Importing Libraries\n",
    "import numpy as np\n",
    "import pandas as pd\n",
    "import matplotlib.pyplot as plt\n",
    "\n",
    "import re\n",
    "import nltk\n",
    "from nltk.corpus import stopwords # importing 'stopwords' to this notebook\n",
    "from nltk.stem.porter import PorterStemmer ## stemming of words\n",
    "\n",
    "import joblib"
   ]
  },
  {
   "cell_type": "code",
   "execution_count": 2,
   "metadata": {
    "_cell_guid": "79c7e3d0-c299-4dcb-8224-4455121ee9b0",
    "_uuid": "d629ff2d2480ee46fbb7e2d37f6b5fab8052498a",
    "execution": {
     "iopub.execute_input": "2020-12-16T19:29:20.608906Z",
     "iopub.status.busy": "2020-12-16T19:29:20.598413Z",
     "iopub.status.idle": "2020-12-16T19:29:20.764789Z",
     "shell.execute_reply": "2020-12-16T19:29:20.764127Z"
    },
    "papermill": {
     "duration": 0.190021,
     "end_time": "2020-12-16T19:29:20.764894",
     "exception": false,
     "start_time": "2020-12-16T19:29:20.574873",
     "status": "completed"
    },
    "tags": []
   },
   "outputs": [
    {
     "data": {
      "text/html": [
       "<div>\n",
       "<style scoped>\n",
       "    .dataframe tbody tr th:only-of-type {\n",
       "        vertical-align: middle;\n",
       "    }\n",
       "\n",
       "    .dataframe tbody tr th {\n",
       "        vertical-align: top;\n",
       "    }\n",
       "\n",
       "    .dataframe thead th {\n",
       "        text-align: right;\n",
       "    }\n",
       "</style>\n",
       "<table border=\"1\" class=\"dataframe\">\n",
       "  <thead>\n",
       "    <tr style=\"text-align: right;\">\n",
       "      <th></th>\n",
       "      <th>Date</th>\n",
       "      <th>Open</th>\n",
       "      <th>High</th>\n",
       "      <th>Low</th>\n",
       "      <th>Close</th>\n",
       "      <th>Adj Close</th>\n",
       "      <th>Volume</th>\n",
       "      <th>News</th>\n",
       "    </tr>\n",
       "  </thead>\n",
       "  <tbody>\n",
       "    <tr>\n",
       "      <th>0</th>\n",
       "      <td>2006-12-01</td>\n",
       "      <td>13.114285</td>\n",
       "      <td>13.190000</td>\n",
       "      <td>12.871428</td>\n",
       "      <td>91.320000</td>\n",
       "      <td>13.045714</td>\n",
       "      <td>198769900</td>\n",
       "      <td>WHAT'S ON TONIGHT : 8 P.M. (TLC) ASHLEY JUDD A...</td>\n",
       "    </tr>\n",
       "    <tr>\n",
       "      <th>1</th>\n",
       "      <td>2006-12-04</td>\n",
       "      <td>13.125714</td>\n",
       "      <td>13.150000</td>\n",
       "      <td>12.928572</td>\n",
       "      <td>91.120003</td>\n",
       "      <td>13.017143</td>\n",
       "      <td>177384200</td>\n",
       "      <td>More on Housing Prices : The broadest governme...</td>\n",
       "    </tr>\n",
       "    <tr>\n",
       "      <th>2</th>\n",
       "      <td>2006-12-05</td>\n",
       "      <td>13.092857</td>\n",
       "      <td>13.190000</td>\n",
       "      <td>12.981428</td>\n",
       "      <td>91.269997</td>\n",
       "      <td>13.038571</td>\n",
       "      <td>165709600</td>\n",
       "      <td>NaN</td>\n",
       "    </tr>\n",
       "    <tr>\n",
       "      <th>3</th>\n",
       "      <td>2006-12-06</td>\n",
       "      <td>12.948571</td>\n",
       "      <td>13.055715</td>\n",
       "      <td>12.810000</td>\n",
       "      <td>89.830002</td>\n",
       "      <td>12.832857</td>\n",
       "      <td>159546100</td>\n",
       "      <td>Honoring R.W. Apple in Words and Food : About ...</td>\n",
       "    </tr>\n",
       "    <tr>\n",
       "      <th>4</th>\n",
       "      <td>2006-12-07</td>\n",
       "      <td>12.861428</td>\n",
       "      <td>12.928572</td>\n",
       "      <td>12.414286</td>\n",
       "      <td>87.040001</td>\n",
       "      <td>12.434286</td>\n",
       "      <td>251206900</td>\n",
       "      <td>Homebuilders, and Worries Over Jobs, Lead a De...</td>\n",
       "    </tr>\n",
       "  </tbody>\n",
       "</table>\n",
       "</div>"
      ],
      "text/plain": [
       "         Date       Open       High        Low      Close  Adj Close  \\\n",
       "0  2006-12-01  13.114285  13.190000  12.871428  91.320000  13.045714   \n",
       "1  2006-12-04  13.125714  13.150000  12.928572  91.120003  13.017143   \n",
       "2  2006-12-05  13.092857  13.190000  12.981428  91.269997  13.038571   \n",
       "3  2006-12-06  12.948571  13.055715  12.810000  89.830002  12.832857   \n",
       "4  2006-12-07  12.861428  12.928572  12.414286  87.040001  12.434286   \n",
       "\n",
       "      Volume                                               News  \n",
       "0  198769900  WHAT'S ON TONIGHT : 8 P.M. (TLC) ASHLEY JUDD A...  \n",
       "1  177384200  More on Housing Prices : The broadest governme...  \n",
       "2  165709600                                                NaN  \n",
       "3  159546100  Honoring R.W. Apple in Words and Food : About ...  \n",
       "4  251206900  Homebuilders, and Worries Over Jobs, Lead a De...  "
      ]
     },
     "execution_count": 2,
     "metadata": {},
     "output_type": "execute_result"
    }
   ],
   "source": [
    "data= pd.read_csv('../input/stock-price-and-news-realted-to-it/AppleNewsStock.csv')\n",
    "data.head()"
   ]
  },
  {
   "cell_type": "markdown",
   "metadata": {
    "papermill": {
     "duration": 0.015877,
     "end_time": "2020-12-16T19:29:20.800755",
     "exception": false,
     "start_time": "2020-12-16T19:29:20.784878",
     "status": "completed"
    },
    "tags": []
   },
   "source": [
    "# Data Prepration"
   ]
  },
  {
   "cell_type": "code",
   "execution_count": 3,
   "metadata": {
    "execution": {
     "iopub.execute_input": "2020-12-16T19:29:20.882106Z",
     "iopub.status.busy": "2020-12-16T19:29:20.861070Z",
     "iopub.status.idle": "2020-12-16T19:29:20.906569Z",
     "shell.execute_reply": "2020-12-16T19:29:20.907178Z"
    },
    "papermill": {
     "duration": 0.090539,
     "end_time": "2020-12-16T19:29:20.907333",
     "exception": false,
     "start_time": "2020-12-16T19:29:20.816794",
     "status": "completed"
    },
    "tags": []
   },
   "outputs": [],
   "source": [
    "# Assigning labels to the entries\n",
    "label_list=[]\n",
    "for i in range(1, len(data)):\n",
    "    if data['Adj Close'][i] - data['Adj Close'][i-1]>= 0:\n",
    "        label_list.append(1)\n",
    "    else:\n",
    "        label_list.append(0)\n",
    "data1= data.iloc[1: ]\n",
    "data1.insert(2, \"Label\", label_list)\n",
    "\n",
    "data_new= data1[[\"Label\", \"News\"]] # Making data with just news and labels"
   ]
  },
  {
   "cell_type": "code",
   "execution_count": 4,
   "metadata": {
    "execution": {
     "iopub.execute_input": "2020-12-16T19:29:20.953245Z",
     "iopub.status.busy": "2020-12-16T19:29:20.952447Z",
     "iopub.status.idle": "2020-12-16T19:29:20.958402Z",
     "shell.execute_reply": "2020-12-16T19:29:20.958895Z"
    },
    "papermill": {
     "duration": 0.035238,
     "end_time": "2020-12-16T19:29:20.959050",
     "exception": false,
     "start_time": "2020-12-16T19:29:20.923812",
     "status": "completed"
    },
    "tags": []
   },
   "outputs": [
    {
     "data": {
      "text/html": [
       "<div>\n",
       "<style scoped>\n",
       "    .dataframe tbody tr th:only-of-type {\n",
       "        vertical-align: middle;\n",
       "    }\n",
       "\n",
       "    .dataframe tbody tr th {\n",
       "        vertical-align: top;\n",
       "    }\n",
       "\n",
       "    .dataframe thead th {\n",
       "        text-align: right;\n",
       "    }\n",
       "</style>\n",
       "<table border=\"1\" class=\"dataframe\">\n",
       "  <thead>\n",
       "    <tr style=\"text-align: right;\">\n",
       "      <th></th>\n",
       "      <th>Label</th>\n",
       "      <th>News</th>\n",
       "    </tr>\n",
       "  </thead>\n",
       "  <tbody>\n",
       "    <tr>\n",
       "      <th>1</th>\n",
       "      <td>0</td>\n",
       "      <td>More on Housing Prices : The broadest governme...</td>\n",
       "    </tr>\n",
       "    <tr>\n",
       "      <th>2</th>\n",
       "      <td>1</td>\n",
       "      <td>NaN</td>\n",
       "    </tr>\n",
       "    <tr>\n",
       "      <th>3</th>\n",
       "      <td>0</td>\n",
       "      <td>Honoring R.W. Apple in Words and Food : About ...</td>\n",
       "    </tr>\n",
       "    <tr>\n",
       "      <th>4</th>\n",
       "      <td>0</td>\n",
       "      <td>Homebuilders, and Worries Over Jobs, Lead a De...</td>\n",
       "    </tr>\n",
       "    <tr>\n",
       "      <th>5</th>\n",
       "      <td>1</td>\n",
       "      <td>Homebuilders, and Worries Over Jobs, Lead a De...</td>\n",
       "    </tr>\n",
       "    <tr>\n",
       "      <th>...</th>\n",
       "      <td>...</td>\n",
       "      <td>...</td>\n",
       "    </tr>\n",
       "    <tr>\n",
       "      <th>2512</th>\n",
       "      <td>0</td>\n",
       "      <td>NaN</td>\n",
       "    </tr>\n",
       "    <tr>\n",
       "      <th>2513</th>\n",
       "      <td>1</td>\n",
       "      <td>Fighting iOS Calendar Spam : Unsolicited invit...</td>\n",
       "    </tr>\n",
       "    <tr>\n",
       "      <th>2514</th>\n",
       "      <td>0</td>\n",
       "      <td>NaN</td>\n",
       "    </tr>\n",
       "    <tr>\n",
       "      <th>2515</th>\n",
       "      <td>0</td>\n",
       "      <td>NaN</td>\n",
       "    </tr>\n",
       "    <tr>\n",
       "      <th>2516</th>\n",
       "      <td>0</td>\n",
       "      <td>NaN</td>\n",
       "    </tr>\n",
       "  </tbody>\n",
       "</table>\n",
       "<p>2516 rows × 2 columns</p>\n",
       "</div>"
      ],
      "text/plain": [
       "      Label                                               News\n",
       "1         0  More on Housing Prices : The broadest governme...\n",
       "2         1                                                NaN\n",
       "3         0  Honoring R.W. Apple in Words and Food : About ...\n",
       "4         0  Homebuilders, and Worries Over Jobs, Lead a De...\n",
       "5         1  Homebuilders, and Worries Over Jobs, Lead a De...\n",
       "...     ...                                                ...\n",
       "2512      0                                                NaN\n",
       "2513      1  Fighting iOS Calendar Spam : Unsolicited invit...\n",
       "2514      0                                                NaN\n",
       "2515      0                                                NaN\n",
       "2516      0                                                NaN\n",
       "\n",
       "[2516 rows x 2 columns]"
      ]
     },
     "metadata": {},
     "output_type": "display_data"
    }
   ],
   "source": [
    "display(data_new)\n",
    "# Setting New Index for data\n",
    "data_new= data_new.set_index(i for i in range(0, len(data_new)))"
   ]
  },
  {
   "cell_type": "code",
   "execution_count": 5,
   "metadata": {
    "execution": {
     "iopub.execute_input": "2020-12-16T19:29:21.034663Z",
     "iopub.status.busy": "2020-12-16T19:29:21.026961Z",
     "iopub.status.idle": "2020-12-16T19:29:21.041848Z",
     "shell.execute_reply": "2020-12-16T19:29:21.041003Z"
    },
    "papermill": {
     "duration": 0.065827,
     "end_time": "2020-12-16T19:29:21.042035",
     "exception": false,
     "start_time": "2020-12-16T19:29:20.976208",
     "status": "completed"
    },
    "tags": []
   },
   "outputs": [
    {
     "name": "stdout",
     "output_type": "stream",
     "text": [
      "Row 1\n",
      "Row 6\n",
      "Row 13\n",
      "Row 42\n",
      "Row 47\n",
      "Row 57\n",
      "Row 62\n",
      "Row 77\n",
      "Row 81\n",
      "Row 83\n",
      "Row 122\n",
      "Row 128\n",
      "Row 135\n",
      "Row 141\n",
      "Row 159\n",
      "Row 168\n",
      "Row 184\n",
      "Row 213\n",
      "Row 221\n",
      "Row 254\n",
      "Row 258\n",
      "Row 265\n",
      "Row 270\n",
      "Row 278\n",
      "Row 290\n",
      "Row 297\n",
      "Row 316\n",
      "Row 320\n",
      "Row 328\n",
      "Row 351\n",
      "Row 367\n",
      "Row 372\n",
      "Row 379\n",
      "Row 393\n",
      "Row 399\n",
      "Row 417\n",
      "Row 425\n",
      "Row 434\n",
      "Row 453\n",
      "Row 463\n",
      "Row 467\n",
      "Row 472\n",
      "Row 479\n",
      "Row 482\n",
      "Row 503\n",
      "Row 511\n",
      "Row 519\n",
      "Row 521\n",
      "Row 525\n",
      "Row 531\n",
      "Row 572\n",
      "Row 584\n",
      "Row 612\n",
      "Row 618\n",
      "Row 625\n",
      "Row 633\n",
      "Row 647\n",
      "Row 652\n",
      "Row 670\n",
      "Row 682\n",
      "Row 689\n",
      "Row 696\n",
      "Row 699\n",
      "Row 703\n",
      "Row 711\n",
      "Row 731\n",
      "Row 736\n",
      "Row 749\n",
      "Row 772\n",
      "Row 775\n",
      "Row 794\n",
      "Row 834\n",
      "Row 835\n",
      "Row 857\n",
      "Row 871\n",
      "Row 899\n",
      "Row 919\n",
      "Row 942\n",
      "Row 959\n",
      "Row 972\n",
      "Row 978\n",
      "Row 987\n",
      "Row 1027\n",
      "Row 1035\n",
      "Row 1043\n",
      "Row 1047\n",
      "Row 1053\n",
      "Row 1065\n",
      "Row 1078\n",
      "Row 1088\n",
      "Row 1095\n",
      "Row 1107\n",
      "Row 1111\n",
      "Row 1121\n",
      "Row 1124\n",
      "Row 1130\n",
      "Row 1145\n",
      "Row 1151\n",
      "Row 1161\n",
      "Row 1168\n",
      "Row 1172\n",
      "Row 1179\n",
      "Row 1185\n",
      "Row 1195\n",
      "Row 1201\n",
      "Row 1208\n",
      "Row 1214\n",
      "Row 1222\n",
      "Row 1226\n",
      "Row 1231\n",
      "Row 1237\n",
      "Row 1243\n",
      "Row 1274\n",
      "Row 1296\n",
      "Row 1298\n",
      "Row 1301\n",
      "Row 1328\n",
      "Row 1380\n",
      "Row 1404\n",
      "Row 1430\n",
      "Row 1448\n",
      "Row 1480\n",
      "Row 1488\n",
      "Row 1509\n",
      "Row 1528\n",
      "Row 1547\n",
      "Row 1552\n",
      "Row 1582\n",
      "Row 1589\n",
      "Row 1616\n",
      "Row 1632\n",
      "Row 1674\n",
      "Row 1697\n",
      "Row 1717\n",
      "Row 1730\n",
      "Row 1760\n",
      "Row 1765\n",
      "Row 1778\n",
      "Row 1781\n",
      "Row 1799\n",
      "Row 1802\n",
      "Row 1821\n",
      "Row 1830\n",
      "Row 1836\n",
      "Row 1842\n",
      "Row 1890\n",
      "Row 1894\n",
      "Row 1925\n",
      "Row 1929\n",
      "Row 1947\n",
      "Row 1961\n",
      "Row 1964\n",
      "Row 1972\n",
      "Row 1989\n",
      "Row 2010\n",
      "Row 2032\n",
      "Row 2069\n",
      "Row 2093\n",
      "Row 2097\n",
      "Row 2118\n",
      "Row 2146\n",
      "Row 2178\n",
      "Row 2215\n",
      "Row 2220\n",
      "Row 2233\n",
      "Row 2284\n",
      "Row 2305\n",
      "Row 2309\n",
      "Row 2331\n",
      "Row 2348\n",
      "Row 2392\n",
      "Row 2410\n",
      "Row 2432\n",
      "Row 2434\n",
      "Row 2440\n",
      "Row 2450\n",
      "Row 2451\n",
      "Row 2452\n",
      "Row 2453\n",
      "Row 2456\n",
      "Row 2465\n",
      "Row 2469\n",
      "Row 2471\n",
      "Row 2472\n",
      "Row 2473\n",
      "Row 2485\n",
      "Row 2488\n",
      "Row 2493\n",
      "Row 2494\n",
      "Row 2499\n",
      "Row 2511\n",
      "Row 2513\n",
      "Row 2514\n",
      "Row 2515\n",
      "\n",
      "\n",
      "Row numbers with missing valus :[1, 1027, 6, 519, 521, 1035, 1547, 13, 525, 1552, 531, 1043, 2069, 1047, 1053, 1065, 42, 2093, 1582, 47, 2097, 1589, 1078, 57, 572, 62, 1088, 2118, 1095, 584, 77, 1616, 81, 83, 1107, 1111, 1632, 1121, 2146, 612, 1124, 618, 1130, 625, 633, 122, 1145, 1151, 128, 2178, 135, 647, 1161, 1674, 652, 141, 1168, 1172, 1179, 670, 159, 1185, 1697, 2215, 168, 682, 1195, 2220, 689, 1201, 1717, 184, 696, 1208, 699, 2233, 1214, 703, 1730, 1222, 711, 1226, 1231, 213, 1237, 731, 1243, 221, 736, 1760, 1765, 2284, 749, 1778, 1781, 1274, 254, 2305, 258, 772, 2309, 775, 1799, 265, 1802, 270, 1296, 1298, 1301, 278, 794, 2331, 1821, 290, 1830, 297, 1836, 2348, 1328, 1842, 316, 320, 834, 835, 328, 2392, 857, 351, 1890, 1380, 1894, 871, 2410, 367, 372, 379, 1404, 2432, 2434, 899, 1925, 2440, 393, 1929, 399, 2450, 2451, 2452, 2453, 1430, 919, 2456, 1947, 417, 2465, 2469, 2471, 1448, 425, 1961, 2472, 1964, 2473, 942, 434, 1972, 2485, 2488, 2493, 2494, 959, 2499, 453, 1989, 1480, 972, 463, 1488, 2511, 978, 467, 2513, 2514, 2515, 472, 2010, 987, 479, 482, 1509, 2032, 503, 1528, 511]\n"
     ]
    }
   ],
   "source": [
    "# Finding Missing Values\n",
    "miss_value_row_list=[]\n",
    "\n",
    "for j in range(len(data_new)):\n",
    "    if type(data_new[\"News\"][j]) is str: # Non-missing values will have str type\n",
    "        continue\n",
    "    else: \n",
    "        print( 'Row ' + str(j))\n",
    "        miss_value_row_list.append(j)\n",
    "miss_value_row_list= list(set(miss_value_row_list)) # Removing repeating elements(row number) \n",
    "print('\\n')\n",
    "print(\"Row numbers with missing valus :\" + str(miss_value_row_list))"
   ]
  },
  {
   "cell_type": "code",
   "execution_count": 6,
   "metadata": {
    "execution": {
     "iopub.execute_input": "2020-12-16T19:29:21.090930Z",
     "iopub.status.busy": "2020-12-16T19:29:21.090160Z",
     "iopub.status.idle": "2020-12-16T19:29:21.094525Z",
     "shell.execute_reply": "2020-12-16T19:29:21.094030Z"
    },
    "papermill": {
     "duration": 0.026827,
     "end_time": "2020-12-16T19:29:21.094635",
     "exception": false,
     "start_time": "2020-12-16T19:29:21.067808",
     "status": "completed"
    },
    "tags": []
   },
   "outputs": [
    {
     "data": {
      "text/plain": [
       "2322"
      ]
     },
     "execution_count": 6,
     "metadata": {},
     "output_type": "execute_result"
    }
   ],
   "source": [
    "# Total Available Data:\n",
    "len(data_new)-len(miss_value_row_list)"
   ]
  },
  {
   "cell_type": "code",
   "execution_count": 7,
   "metadata": {
    "execution": {
     "iopub.execute_input": "2020-12-16T19:29:21.139840Z",
     "iopub.status.busy": "2020-12-16T19:29:21.139174Z",
     "iopub.status.idle": "2020-12-16T19:29:21.142663Z",
     "shell.execute_reply": "2020-12-16T19:29:21.142139Z"
    },
    "papermill": {
     "duration": 0.029562,
     "end_time": "2020-12-16T19:29:21.142795",
     "exception": false,
     "start_time": "2020-12-16T19:29:21.113233",
     "status": "completed"
    },
    "tags": []
   },
   "outputs": [],
   "source": [
    "# Removing rows with missing entries\n",
    "data_new.drop(miss_value_row_list, inplace = True)\n",
    "\n",
    "# Setting New Index for data\n",
    "data_new= data_new.set_index(i for i in range(len(data_new)))"
   ]
  },
  {
   "cell_type": "markdown",
   "metadata": {
    "papermill": {
     "duration": 0.019206,
     "end_time": "2020-12-16T19:29:21.180713",
     "exception": false,
     "start_time": "2020-12-16T19:29:21.161507",
     "status": "completed"
    },
    "tags": []
   },
   "source": [
    "# NLP"
   ]
  },
  {
   "cell_type": "code",
   "execution_count": 8,
   "metadata": {
    "execution": {
     "iopub.execute_input": "2020-12-16T19:29:21.226758Z",
     "iopub.status.busy": "2020-12-16T19:29:21.226081Z",
     "iopub.status.idle": "2020-12-16T19:29:21.229233Z",
     "shell.execute_reply": "2020-12-16T19:29:21.228619Z"
    },
    "papermill": {
     "duration": 0.029812,
     "end_time": "2020-12-16T19:29:21.229358",
     "exception": false,
     "start_time": "2020-12-16T19:29:21.199546",
     "status": "completed"
    },
    "tags": []
   },
   "outputs": [],
   "source": [
    "# Cleanig all the news(stacked together)\n",
    "def nlp_preprocess(text):\n",
    "# corpus=[]\n",
    "    news= re.sub('[^a-zA-Z]', ' ', text)\n",
    "    news= news.lower()\n",
    "    news= news.split()\n",
    "    news=[word for word in news if not word in set(stopwords.words('english'))]\n",
    "    pe = PorterStemmer()\n",
    "    news=[pe.stem(word) for word in news if not word in set(stopwords.words('english'))]\n",
    "    news= ' '.join(news)\n",
    "    # corpus.append(news)\n",
    "    return news"
   ]
  },
  {
   "cell_type": "code",
   "execution_count": 9,
   "metadata": {
    "execution": {
     "iopub.execute_input": "2020-12-16T19:29:21.275351Z",
     "iopub.status.busy": "2020-12-16T19:29:21.274323Z",
     "iopub.status.idle": "2020-12-16T19:29:21.283063Z",
     "shell.execute_reply": "2020-12-16T19:29:21.282399Z"
    },
    "papermill": {
     "duration": 0.03491,
     "end_time": "2020-12-16T19:29:21.283175",
     "exception": false,
     "start_time": "2020-12-16T19:29:21.248265",
     "status": "completed"
    },
    "tags": []
   },
   "outputs": [
    {
     "data": {
      "text/plain": [
       "array([0, 0, 0, ..., 1, 1, 1])"
      ]
     },
     "metadata": {},
     "output_type": "display_data"
    }
   ],
   "source": [
    "# Target Variable\n",
    "Y= data_new[\"Label\"].values\n",
    "display(Y)\n",
    "\n",
    "# Input Variable\n",
    "txt= data_new[\"News\"].values\n",
    "\n",
    "\n",
    "#Spliting Dataset into Training and Test sets\n",
    "from sklearn.model_selection import train_test_split\n",
    "X_train, X_test, Y_train, Y_test= train_test_split(txt, Y, test_size=0.10, random_state=0)"
   ]
  },
  {
   "cell_type": "code",
   "execution_count": 10,
   "metadata": {
    "execution": {
     "iopub.execute_input": "2020-12-16T19:29:21.330465Z",
     "iopub.status.busy": "2020-12-16T19:29:21.329650Z",
     "iopub.status.idle": "2020-12-16T19:31:55.241314Z",
     "shell.execute_reply": "2020-12-16T19:31:55.240625Z"
    },
    "papermill": {
     "duration": 153.938322,
     "end_time": "2020-12-16T19:31:55.241471",
     "exception": false,
     "start_time": "2020-12-16T19:29:21.303149",
     "status": "completed"
    },
    "tags": []
   },
   "outputs": [],
   "source": [
    "# Train data\n",
    "train_corpus= []\n",
    "for i in range(len(X_train)):\n",
    "    train_corpus.append(nlp_preprocess(X_train[i]))\n",
    "    \n",
    "# Test data\n",
    "test_corpus= []\n",
    "for i in range(len(X_test)):\n",
    "    test_corpus.append(nlp_preprocess(X_test[i]))"
   ]
  },
  {
   "cell_type": "code",
   "execution_count": 11,
   "metadata": {
    "execution": {
     "iopub.execute_input": "2020-12-16T19:31:55.300017Z",
     "iopub.status.busy": "2020-12-16T19:31:55.298883Z",
     "iopub.status.idle": "2020-12-16T19:31:56.030895Z",
     "shell.execute_reply": "2020-12-16T19:31:56.030300Z"
    },
    "papermill": {
     "duration": 0.770093,
     "end_time": "2020-12-16T19:31:56.031009",
     "exception": false,
     "start_time": "2020-12-16T19:31:55.260916",
     "status": "completed"
    },
    "tags": []
   },
   "outputs": [],
   "source": [
    "# Creating the Bag of Words model\n",
    "from sklearn.feature_extraction.text import CountVectorizer\n",
    "cv = CountVectorizer(max_features=65000)\n",
    "\n",
    "# Train data\n",
    "trainX = cv.fit_transform(train_corpus).toarray()\n",
    "\n",
    "# Test data\n",
    "testX= cv.transform(test_corpus).toarray()"
   ]
  },
  {
   "cell_type": "code",
   "execution_count": 12,
   "metadata": {
    "execution": {
     "iopub.execute_input": "2020-12-16T19:31:56.074193Z",
     "iopub.status.busy": "2020-12-16T19:31:56.073213Z",
     "iopub.status.idle": "2020-12-16T19:31:56.076769Z",
     "shell.execute_reply": "2020-12-16T19:31:56.076083Z"
    },
    "papermill": {
     "duration": 0.026508,
     "end_time": "2020-12-16T19:31:56.076880",
     "exception": false,
     "start_time": "2020-12-16T19:31:56.050372",
     "status": "completed"
    },
    "tags": []
   },
   "outputs": [],
   "source": [
    "X_train= trainX\n",
    "X_test= testX"
   ]
  },
  {
   "cell_type": "code",
   "execution_count": 13,
   "metadata": {
    "execution": {
     "iopub.execute_input": "2020-12-16T19:31:56.123659Z",
     "iopub.status.busy": "2020-12-16T19:31:56.119262Z",
     "iopub.status.idle": "2020-12-16T19:31:56.800653Z",
     "shell.execute_reply": "2020-12-16T19:31:56.799976Z"
    },
    "papermill": {
     "duration": 0.705128,
     "end_time": "2020-12-16T19:31:56.800802",
     "exception": false,
     "start_time": "2020-12-16T19:31:56.095674",
     "status": "completed"
    },
    "tags": []
   },
   "outputs": [
    {
     "data": {
      "text/plain": [
       "['Count_Vec_model.pkl']"
      ]
     },
     "execution_count": 13,
     "metadata": {},
     "output_type": "execute_result"
    }
   ],
   "source": [
    "# Saving the CV model\n",
    "joblib.dump(cv, \"Count_Vec_model.pkl\")"
   ]
  },
  {
   "cell_type": "markdown",
   "metadata": {
    "papermill": {
     "duration": 0.018949,
     "end_time": "2020-12-16T19:31:56.839597",
     "exception": false,
     "start_time": "2020-12-16T19:31:56.820648",
     "status": "completed"
    },
    "tags": []
   },
   "source": [
    "# Classification Algorithms"
   ]
  },
  {
   "cell_type": "code",
   "execution_count": 14,
   "metadata": {
    "execution": {
     "iopub.execute_input": "2020-12-16T19:31:56.897707Z",
     "iopub.status.busy": "2020-12-16T19:31:56.896575Z",
     "iopub.status.idle": "2020-12-16T19:32:54.657660Z",
     "shell.execute_reply": "2020-12-16T19:32:54.656158Z"
    },
    "papermill": {
     "duration": 57.794249,
     "end_time": "2020-12-16T19:32:54.657802",
     "exception": false,
     "start_time": "2020-12-16T19:31:56.863553",
     "status": "completed"
    },
    "tags": []
   },
   "outputs": [
    {
     "data": {
      "text/plain": [
       "array([1, 1, 0, 1, 0, 1, 1, 1, 0, 1, 1, 1, 0, 0, 1, 0, 0, 1, 1, 0, 1, 1,\n",
       "       1, 1, 1, 0, 0, 0, 1, 1, 1, 1, 0, 0, 1, 1, 0, 1, 1, 1, 1, 1, 1, 1,\n",
       "       0, 0, 1, 1, 1, 0, 0, 0, 0, 1, 1, 0, 0, 1, 1, 1, 1, 0, 1, 1, 0, 1,\n",
       "       1, 1, 0, 1, 1, 1, 1, 1, 1, 1, 1, 1, 1, 0, 1, 0, 1, 0, 1, 1, 0, 1,\n",
       "       1, 0, 1, 1, 1, 1, 0, 0, 1, 1, 0, 0, 0, 1, 1, 0, 0, 1, 0, 0, 0, 1,\n",
       "       1, 0, 0, 0, 1, 1, 1, 1, 1, 0, 0, 0, 0, 0, 1, 1, 1, 0, 1, 1, 0, 1,\n",
       "       1, 1, 1, 1, 1, 1, 0, 0, 1, 1, 1, 0, 0, 0, 0, 1, 0, 0, 1, 1, 1, 1,\n",
       "       0, 1, 0, 0, 1, 1, 1, 1, 1, 1, 1, 1, 1, 0, 0, 1, 1, 0, 1, 1, 1, 1,\n",
       "       0, 0, 0, 1, 1, 0, 1, 1, 1, 1, 1, 0, 0, 1, 0, 1, 0, 0, 1, 1, 1, 1,\n",
       "       1, 1, 0, 0, 1, 0, 1, 0, 1, 1, 1, 1, 1, 1, 0, 0, 0, 1, 1, 1, 1, 0,\n",
       "       1, 0, 1, 1, 1, 1, 0, 1, 0, 1, 0, 0, 0])"
      ]
     },
     "metadata": {},
     "output_type": "display_data"
    },
    {
     "data": {
      "text/plain": [
       "array([[45, 76],\n",
       "       [42, 70]])"
      ]
     },
     "metadata": {},
     "output_type": "display_data"
    },
    {
     "data": {
      "text/plain": [
       "0.49356223175965663"
      ]
     },
     "metadata": {},
     "output_type": "display_data"
    }
   ],
   "source": [
    "# Random Forest\n",
    "from sklearn.ensemble import RandomForestClassifier \n",
    "classifier= RandomForestClassifier(n_estimators= 500, criterion= 'entropy', random_state= 0) # Try with diffrent numbers of n_estimators(n_estimators= number of trees)\n",
    "classifier.fit(X_train, Y_train)\n",
    "\n",
    "# Predicting the test set result\n",
    "y_pred= classifier.predict(X_test)\n",
    "display(y_pred)\n",
    "\n",
    "# Making the Confusion matrix\n",
    "from sklearn.metrics import confusion_matrix\n",
    "cm= confusion_matrix(Y_test, y_pred)\n",
    "display(cm)\n",
    "\n",
    "Accuracy= (cm[0][0] + cm[1][1])/(cm[0][0] + cm[1][1] + cm[0][1] + cm[1][0])\n",
    "display(Accuracy)"
   ]
  },
  {
   "cell_type": "code",
   "execution_count": 15,
   "metadata": {
    "execution": {
     "iopub.execute_input": "2020-12-16T19:32:54.710777Z",
     "iopub.status.busy": "2020-12-16T19:32:54.710075Z",
     "iopub.status.idle": "2020-12-16T19:33:08.314140Z",
     "shell.execute_reply": "2020-12-16T19:33:08.313550Z"
    },
    "papermill": {
     "duration": 13.635403,
     "end_time": "2020-12-16T19:33:08.314259",
     "exception": false,
     "start_time": "2020-12-16T19:32:54.678856",
     "status": "completed"
    },
    "tags": []
   },
   "outputs": [
    {
     "data": {
      "text/plain": [
       "array([0, 0, 0, 1, 0, 1, 1, 0, 0, 1, 0, 1, 1, 0, 1, 0, 0, 1, 1, 0, 1, 1,\n",
       "       0, 0, 1, 0, 0, 0, 1, 0, 0, 0, 0, 0, 0, 0, 0, 0, 1, 0, 1, 1, 0, 0,\n",
       "       0, 0, 0, 0, 1, 0, 0, 0, 0, 0, 0, 0, 1, 0, 0, 1, 0, 0, 1, 1, 1, 0,\n",
       "       0, 0, 0, 0, 0, 0, 0, 1, 0, 1, 0, 0, 0, 0, 1, 1, 0, 1, 1, 0, 1, 1,\n",
       "       0, 1, 1, 0, 1, 0, 0, 0, 1, 0, 0, 0, 1, 1, 1, 1, 0, 1, 0, 0, 1, 0,\n",
       "       1, 0, 1, 0, 0, 0, 1, 1, 0, 1, 0, 1, 1, 0, 1, 0, 0, 1, 1, 1, 0, 1,\n",
       "       1, 0, 1, 1, 1, 1, 0, 1, 0, 1, 1, 1, 0, 1, 1, 1, 0, 0, 0, 1, 1, 0,\n",
       "       0, 0, 0, 0, 0, 0, 1, 1, 1, 1, 0, 0, 0, 1, 1, 1, 0, 0, 1, 0, 1, 0,\n",
       "       1, 0, 1, 0, 1, 0, 1, 0, 0, 1, 0, 1, 0, 1, 1, 1, 1, 0, 1, 1, 0, 0,\n",
       "       1, 0, 1, 1, 0, 1, 1, 0, 1, 0, 0, 1, 1, 1, 0, 0, 0, 0, 0, 0, 1, 1,\n",
       "       1, 0, 1, 0, 1, 1, 0, 1, 1, 0, 0, 1, 1])"
      ]
     },
     "metadata": {},
     "output_type": "display_data"
    },
    {
     "data": {
      "text/plain": [
       "array([[60, 61],\n",
       "       [67, 45]])"
      ]
     },
     "metadata": {},
     "output_type": "display_data"
    },
    {
     "data": {
      "text/plain": [
       "0.45064377682403434"
      ]
     },
     "metadata": {},
     "output_type": "display_data"
    }
   ],
   "source": [
    "# Decision Tree  \n",
    "from sklearn.tree import DecisionTreeClassifier\n",
    "classifier= DecisionTreeClassifier(criterion= 'entropy', random_state= 0)\n",
    "classifier.fit(X_train, Y_train)\n",
    "\n",
    "# Predicting the test set result\n",
    "y_pred= classifier.predict(X_test)\n",
    "display(y_pred)\n",
    "\n",
    "# Making the Confusion matrix\n",
    "from sklearn.metrics import confusion_matrix\n",
    "cm= confusion_matrix(Y_test, y_pred)\n",
    "display(cm)\n",
    "\n",
    "Accuracy= (cm[0][0] + cm[1][1])/(cm[0][0] + cm[1][1] + cm[0][1] + cm[1][0])\n",
    "display(Accuracy)"
   ]
  },
  {
   "cell_type": "code",
   "execution_count": 16,
   "metadata": {
    "execution": {
     "iopub.execute_input": "2020-12-16T19:33:08.369101Z",
     "iopub.status.busy": "2020-12-16T19:33:08.368385Z",
     "iopub.status.idle": "2020-12-16T19:35:31.208617Z",
     "shell.execute_reply": "2020-12-16T19:35:31.206936Z"
    },
    "papermill": {
     "duration": 142.871321,
     "end_time": "2020-12-16T19:35:31.208759",
     "exception": false,
     "start_time": "2020-12-16T19:33:08.337438",
     "status": "completed"
    },
    "tags": []
   },
   "outputs": [
    {
     "data": {
      "text/plain": [
       "array([1, 1, 1, 1, 1, 1, 1, 1, 0, 1, 1, 1, 1, 0, 0, 0, 1, 1, 1, 0, 1, 1,\n",
       "       1, 1, 1, 0, 0, 0, 1, 0, 0, 1, 0, 1, 1, 1, 0, 1, 0, 1, 1, 1, 1, 0,\n",
       "       0, 0, 1, 1, 1, 1, 0, 1, 1, 0, 1, 0, 1, 1, 1, 1, 0, 0, 1, 1, 1, 1,\n",
       "       1, 1, 1, 1, 0, 0, 1, 1, 1, 1, 1, 0, 1, 0, 1, 1, 1, 0, 1, 1, 0, 1,\n",
       "       0, 1, 1, 1, 1, 1, 0, 0, 1, 1, 0, 0, 0, 1, 1, 0, 0, 1, 1, 0, 0, 1,\n",
       "       1, 1, 0, 0, 1, 1, 1, 0, 1, 0, 0, 0, 0, 1, 1, 0, 1, 0, 1, 1, 0, 1,\n",
       "       0, 1, 1, 1, 1, 1, 0, 1, 1, 1, 1, 1, 0, 1, 0, 1, 0, 0, 1, 1, 0, 1,\n",
       "       1, 1, 0, 1, 1, 1, 0, 1, 1, 0, 1, 1, 0, 1, 1, 0, 0, 0, 1, 1, 1, 0,\n",
       "       1, 0, 0, 0, 1, 1, 0, 1, 1, 0, 1, 1, 0, 1, 1, 1, 1, 1, 1, 0, 1, 1,\n",
       "       1, 1, 1, 0, 1, 1, 1, 0, 1, 0, 1, 0, 1, 1, 0, 1, 0, 1, 0, 1, 1, 0,\n",
       "       1, 0, 1, 1, 1, 1, 0, 0, 0, 1, 1, 1, 1])"
      ]
     },
     "metadata": {},
     "output_type": "display_data"
    },
    {
     "data": {
      "text/plain": [
       "array([[43, 78],\n",
       "       [38, 74]])"
      ]
     },
     "metadata": {},
     "output_type": "display_data"
    },
    {
     "data": {
      "text/plain": [
       "0.5021459227467812"
      ]
     },
     "metadata": {},
     "output_type": "display_data"
    }
   ],
   "source": [
    "# Gradient Boosting\n",
    "from sklearn.ensemble import GradientBoostingClassifier\n",
    "classifier = GradientBoostingClassifier()\n",
    "classifier = classifier.fit(X_train, Y_train)\n",
    "\n",
    "# Predicting the test set result\n",
    "y_pred= classifier.predict(X_test)\n",
    "display(y_pred)\n",
    "\n",
    "# Making the Confusion matrix\n",
    "from sklearn.metrics import confusion_matrix\n",
    "cm= confusion_matrix(Y_test, y_pred)\n",
    "display(cm)\n",
    "\n",
    "Accuracy= (cm[0][0] + cm[1][1])/(cm[0][0] + cm[1][1] + cm[0][1] + cm[1][0])\n",
    "display(Accuracy)"
   ]
  },
  {
   "cell_type": "code",
   "execution_count": 17,
   "metadata": {
    "execution": {
     "iopub.execute_input": "2020-12-16T19:35:31.260668Z",
     "iopub.status.busy": "2020-12-16T19:35:31.259934Z",
     "iopub.status.idle": "2020-12-16T19:37:51.298517Z",
     "shell.execute_reply": "2020-12-16T19:37:51.296982Z"
    },
    "papermill": {
     "duration": 140.065532,
     "end_time": "2020-12-16T19:37:51.298643",
     "exception": false,
     "start_time": "2020-12-16T19:35:31.233111",
     "status": "completed"
    },
    "tags": []
   },
   "outputs": [
    {
     "data": {
      "text/plain": [
       "array([0, 1, 0, 0, 0, 1, 1, 0, 1, 1, 0, 1, 1, 0, 1, 0, 0, 1, 1, 0, 1, 1,\n",
       "       1, 0, 1, 0, 1, 1, 1, 0, 1, 1, 0, 0, 1, 1, 0, 0, 0, 1, 1, 1, 0, 0,\n",
       "       1, 0, 1, 1, 1, 0, 1, 0, 0, 1, 1, 0, 1, 0, 0, 1, 0, 0, 1, 1, 0, 1,\n",
       "       1, 1, 1, 0, 1, 1, 1, 0, 1, 1, 1, 1, 1, 1, 1, 0, 1, 0, 0, 1, 0, 1,\n",
       "       1, 0, 0, 1, 1, 1, 0, 0, 1, 1, 0, 1, 0, 1, 1, 1, 1, 1, 0, 0, 0, 1,\n",
       "       1, 0, 1, 0, 1, 1, 1, 1, 1, 1, 1, 1, 1, 0, 1, 0, 1, 0, 0, 1, 0, 1,\n",
       "       1, 1, 1, 1, 0, 1, 0, 0, 1, 1, 1, 1, 0, 0, 0, 0, 0, 1, 1, 1, 1, 1,\n",
       "       0, 1, 0, 0, 1, 1, 1, 1, 1, 1, 1, 0, 1, 0, 0, 1, 0, 0, 1, 1, 1, 1,\n",
       "       0, 0, 0, 1, 1, 0, 1, 1, 0, 1, 1, 0, 0, 1, 0, 1, 1, 0, 1, 1, 0, 0,\n",
       "       0, 1, 0, 1, 1, 0, 1, 0, 1, 1, 1, 1, 1, 1, 0, 1, 0, 1, 1, 1, 1, 0,\n",
       "       1, 0, 1, 1, 1, 1, 1, 1, 1, 1, 1, 0, 1])"
      ]
     },
     "metadata": {},
     "output_type": "display_data"
    },
    {
     "data": {
      "text/plain": [
       "array([[46, 75],\n",
       "       [42, 70]])"
      ]
     },
     "metadata": {},
     "output_type": "display_data"
    },
    {
     "data": {
      "text/plain": [
       "0.4978540772532189"
      ]
     },
     "metadata": {},
     "output_type": "display_data"
    }
   ],
   "source": [
    "# Kernel SVM\n",
    "from sklearn.svm import SVC \n",
    "classifier= SVC(kernel='rbf', random_state= 0)\n",
    "classifier.fit(X_train, Y_train)\n",
    "\n",
    "# Predicting the test set result\n",
    "y_pred= classifier.predict(X_test)\n",
    "display(y_pred)\n",
    "\n",
    "# Making the Confusion matrix\n",
    "from sklearn.metrics import confusion_matrix\n",
    "cm= confusion_matrix(Y_test, y_pred)\n",
    "display(cm)\n",
    "\n",
    "Accuracy= (cm[0][0] + cm[1][1])/(cm[0][0] + cm[1][1] + cm[0][1] + cm[1][0])\n",
    "display(Accuracy)"
   ]
  },
  {
   "cell_type": "code",
   "execution_count": 18,
   "metadata": {
    "execution": {
     "iopub.execute_input": "2020-12-16T19:37:51.359129Z",
     "iopub.status.busy": "2020-12-16T19:37:51.358465Z",
     "iopub.status.idle": "2020-12-16T19:37:52.303328Z",
     "shell.execute_reply": "2020-12-16T19:37:52.303924Z"
    },
    "papermill": {
     "duration": 0.97964,
     "end_time": "2020-12-16T19:37:52.304098",
     "exception": false,
     "start_time": "2020-12-16T19:37:51.324458",
     "status": "completed"
    },
    "tags": []
   },
   "outputs": [
    {
     "data": {
      "text/plain": [
       "array([0, 1, 0, 0, 0, 0, 0, 1, 0, 1, 1, 1, 0, 0, 0, 0, 1, 1, 1, 1, 1, 0,\n",
       "       1, 0, 1, 0, 0, 0, 1, 0, 1, 1, 0, 0, 1, 1, 0, 0, 0, 1, 1, 1, 1, 0,\n",
       "       1, 0, 1, 1, 1, 1, 0, 1, 1, 1, 0, 0, 1, 0, 0, 1, 1, 0, 1, 1, 0, 1,\n",
       "       1, 0, 1, 0, 1, 1, 0, 1, 1, 1, 1, 0, 1, 1, 1, 0, 1, 0, 1, 1, 1, 0,\n",
       "       1, 0, 1, 0, 1, 1, 0, 0, 1, 0, 0, 1, 0, 1, 1, 0, 1, 1, 0, 0, 0, 1,\n",
       "       1, 0, 0, 0, 1, 1, 1, 0, 1, 0, 1, 1, 0, 0, 1, 0, 1, 0, 1, 1, 0, 1,\n",
       "       1, 1, 1, 0, 0, 1, 0, 1, 1, 0, 1, 0, 0, 0, 1, 1, 0, 0, 1, 1, 0, 1,\n",
       "       0, 0, 0, 0, 1, 1, 1, 1, 1, 1, 1, 0, 1, 1, 0, 0, 0, 0, 1, 0, 0, 1,\n",
       "       0, 0, 0, 1, 1, 0, 0, 1, 0, 1, 1, 1, 1, 1, 0, 0, 0, 0, 1, 1, 0, 1,\n",
       "       1, 1, 0, 0, 1, 0, 1, 0, 1, 1, 1, 0, 1, 1, 0, 1, 0, 1, 1, 0, 1, 0,\n",
       "       1, 1, 1, 1, 1, 0, 0, 0, 0, 1, 1, 0, 0])"
      ]
     },
     "metadata": {},
     "output_type": "display_data"
    },
    {
     "data": {
      "text/plain": [
       "array([[48, 73],\n",
       "       [58, 54]])"
      ]
     },
     "metadata": {},
     "output_type": "display_data"
    },
    {
     "data": {
      "text/plain": [
       "0.43776824034334766"
      ]
     },
     "metadata": {},
     "output_type": "display_data"
    }
   ],
   "source": [
    "# Multinomial NB\n",
    "from sklearn.naive_bayes import MultinomialNB\n",
    "classifier=MultinomialNB()\n",
    "classifier.fit(X_train, Y_train)\n",
    "\n",
    "# Predicting the test set result\n",
    "y_pred= classifier.predict(X_test)\n",
    "display(y_pred)\n",
    "\n",
    "# Making the Confusion matrix\n",
    "from sklearn.metrics import confusion_matrix\n",
    "cm= confusion_matrix(Y_test, y_pred)\n",
    "display(cm)\n",
    "\n",
    "Accuracy= (cm[0][0] + cm[1][1])/(cm[0][0] + cm[1][1] + cm[0][1] + cm[1][0])\n",
    "display(Accuracy)"
   ]
  },
  {
   "cell_type": "code",
   "execution_count": 19,
   "metadata": {
    "execution": {
     "iopub.execute_input": "2020-12-16T19:37:52.365570Z",
     "iopub.status.busy": "2020-12-16T19:37:52.364611Z",
     "iopub.status.idle": "2020-12-16T19:37:54.516728Z",
     "shell.execute_reply": "2020-12-16T19:37:54.517287Z"
    },
    "papermill": {
     "duration": 2.182396,
     "end_time": "2020-12-16T19:37:54.517445",
     "exception": false,
     "start_time": "2020-12-16T19:37:52.335049",
     "status": "completed"
    },
    "tags": []
   },
   "outputs": [
    {
     "data": {
      "text/plain": [
       "array([0, 1, 0, 1, 0, 1, 1, 1, 0, 1, 0, 0, 1, 0, 1, 1, 0, 0, 1, 0, 1, 0,\n",
       "       0, 0, 1, 0, 1, 0, 1, 0, 0, 1, 0, 0, 1, 1, 0, 0, 0, 1, 1, 0, 1, 0,\n",
       "       0, 0, 1, 1, 1, 0, 1, 0, 1, 1, 1, 0, 0, 0, 0, 1, 1, 0, 1, 1, 0, 1,\n",
       "       1, 1, 1, 0, 1, 1, 0, 0, 1, 1, 1, 1, 1, 0, 1, 1, 1, 0, 1, 1, 1, 1,\n",
       "       1, 0, 1, 1, 1, 0, 0, 0, 0, 1, 0, 0, 1, 1, 1, 1, 1, 1, 0, 0, 0, 1,\n",
       "       1, 0, 0, 0, 0, 0, 1, 0, 1, 1, 0, 1, 1, 1, 1, 0, 1, 0, 0, 1, 0, 1,\n",
       "       1, 1, 1, 1, 0, 1, 0, 0, 1, 1, 1, 0, 0, 0, 1, 0, 0, 0, 1, 1, 0, 0,\n",
       "       0, 1, 0, 0, 0, 1, 1, 1, 1, 0, 0, 0, 0, 1, 0, 1, 0, 0, 1, 1, 1, 1,\n",
       "       0, 0, 0, 1, 1, 0, 0, 1, 0, 1, 1, 0, 0, 0, 0, 0, 0, 0, 1, 1, 0, 0,\n",
       "       0, 1, 0, 0, 1, 0, 1, 0, 1, 1, 1, 1, 1, 1, 0, 1, 0, 1, 0, 0, 1, 0,\n",
       "       1, 0, 1, 1, 0, 1, 0, 0, 1, 1, 1, 0, 0])"
      ]
     },
     "metadata": {},
     "output_type": "display_data"
    },
    {
     "data": {
      "text/plain": [
       "array([[60, 61],\n",
       "       [53, 59]])"
      ]
     },
     "metadata": {},
     "output_type": "display_data"
    },
    {
     "data": {
      "text/plain": [
       "0.5107296137339056"
      ]
     },
     "metadata": {},
     "output_type": "display_data"
    }
   ],
   "source": [
    "# SGDC\n",
    "from sklearn.linear_model import SGDClassifier\n",
    "classifier = SGDClassifier(loss='modified_huber', random_state=0, shuffle=True)\n",
    "classifier = classifier.fit(X_train, Y_train)\n",
    "\n",
    "# Predicting the test set result\n",
    "y_pred= classifier.predict(X_test)\n",
    "display(y_pred)\n",
    "\n",
    "# Making the Confusion matrix\n",
    "from sklearn.metrics import confusion_matrix\n",
    "cm= confusion_matrix(Y_test, y_pred)\n",
    "display(cm)\n",
    "\n",
    "Accuracy= (cm[0][0] + cm[1][1])/(cm[0][0] + cm[1][1] + cm[0][1] + cm[1][0])\n",
    "display(Accuracy)"
   ]
  },
  {
   "cell_type": "code",
   "execution_count": 20,
   "metadata": {
    "execution": {
     "iopub.execute_input": "2020-12-16T19:37:54.579284Z",
     "iopub.status.busy": "2020-12-16T19:37:54.578253Z",
     "iopub.status.idle": "2020-12-16T19:37:55.063339Z",
     "shell.execute_reply": "2020-12-16T19:37:55.063922Z"
    },
    "papermill": {
     "duration": 0.517818,
     "end_time": "2020-12-16T19:37:55.064066",
     "exception": false,
     "start_time": "2020-12-16T19:37:54.546248",
     "status": "completed"
    },
    "tags": []
   },
   "outputs": [
    {
     "data": {
      "text/plain": [
       "array([0, 0, 0, 1, 0, 0, 0, 0, 1, 0, 0, 1, 0, 0, 0, 0, 0, 0, 0, 0, 0, 0,\n",
       "       0, 0, 0, 0, 0, 1, 0, 0, 1, 0, 0, 0, 1, 0, 0, 0, 0, 0, 0, 0, 1, 0,\n",
       "       0, 0, 1, 0, 0, 0, 0, 0, 0, 0, 0, 0, 0, 0, 0, 0, 0, 0, 0, 0, 0, 0,\n",
       "       1, 0, 0, 1, 1, 1, 0, 0, 0, 1, 0, 0, 0, 0, 1, 0, 1, 0, 0, 1, 0, 0,\n",
       "       0, 0, 0, 0, 0, 1, 0, 0, 0, 0, 0, 0, 0, 1, 0, 0, 0, 1, 0, 0, 0, 0,\n",
       "       0, 0, 0, 0, 1, 0, 0, 0, 0, 0, 0, 0, 0, 0, 0, 0, 0, 0, 0, 0, 1, 0,\n",
       "       0, 1, 0, 0, 0, 1, 0, 0, 0, 0, 1, 0, 0, 0, 0, 0, 0, 0, 0, 0, 0, 0,\n",
       "       0, 0, 0, 0, 0, 0, 0, 0, 0, 0, 0, 0, 0, 0, 0, 0, 0, 0, 1, 1, 1, 0,\n",
       "       0, 0, 0, 1, 0, 0, 0, 0, 0, 1, 1, 0, 0, 0, 0, 0, 1, 0, 0, 0, 0, 0,\n",
       "       0, 1, 0, 0, 0, 0, 0, 0, 0, 1, 0, 0, 0, 0, 0, 0, 0, 1, 0, 0, 0, 0,\n",
       "       0, 0, 0, 0, 0, 0, 0, 0, 0, 0, 0, 0, 0])"
      ]
     },
     "metadata": {},
     "output_type": "display_data"
    },
    {
     "data": {
      "text/plain": [
       "array([[107,  14],\n",
       "       [ 92,  20]])"
      ]
     },
     "metadata": {},
     "output_type": "display_data"
    },
    {
     "data": {
      "text/plain": [
       "0.5450643776824035"
      ]
     },
     "metadata": {},
     "output_type": "display_data"
    }
   ],
   "source": [
    "# KNN\n",
    "from sklearn.neighbors import KNeighborsClassifier\n",
    "classifier= KNeighborsClassifier(n_neighbors= 7, metric='minkowski', p=2, leaf_size=70, weights= 'distance', algorithm= 'brute')\n",
    "classifier.fit(X_train, Y_train)\n",
    "\n",
    "# Predicting the test set result\n",
    "y_pred= classifier.predict(X_test)\n",
    "display(y_pred)\n",
    "\n",
    "# Making the Confusion matrix\n",
    "from sklearn.metrics import confusion_matrix\n",
    "cm= confusion_matrix(Y_test, y_pred)\n",
    "display(cm)\n",
    "\n",
    "Accuracy= (cm[0][0] + cm[1][1])/(cm[0][0] + cm[1][1] + cm[0][1] + cm[1][0])\n",
    "display(Accuracy)"
   ]
  },
  {
   "cell_type": "code",
   "execution_count": 21,
   "metadata": {
    "execution": {
     "iopub.execute_input": "2020-12-16T19:37:55.127112Z",
     "iopub.status.busy": "2020-12-16T19:37:55.126093Z",
     "iopub.status.idle": "2020-12-16T19:37:56.273425Z",
     "shell.execute_reply": "2020-12-16T19:37:56.273969Z"
    },
    "papermill": {
     "duration": 1.180619,
     "end_time": "2020-12-16T19:37:56.274109",
     "exception": false,
     "start_time": "2020-12-16T19:37:55.093490",
     "status": "completed"
    },
    "tags": []
   },
   "outputs": [
    {
     "data": {
      "text/plain": [
       "['Apple_stock_behaviour.pkl']"
      ]
     },
     "execution_count": 21,
     "metadata": {},
     "output_type": "execute_result"
    }
   ],
   "source": [
    "# Saving the classifier for future use \n",
    "joblib.dump(classifier, \"Apple_stock_behaviour.pkl\", compress=1)"
   ]
  }
 ],
 "metadata": {
  "kernelspec": {
   "display_name": "Python 3",
   "language": "python",
   "name": "python3"
  },
  "language_info": {
   "codemirror_mode": {
    "name": "ipython",
    "version": 3
   },
   "file_extension": ".py",
   "mimetype": "text/x-python",
   "name": "python",
   "nbconvert_exporter": "python",
   "pygments_lexer": "ipython3",
   "version": "3.7.6"
  },
  "papermill": {
   "duration": 521.948937,
   "end_time": "2020-12-16T19:37:56.412077",
   "environment_variables": {},
   "exception": null,
   "input_path": "__notebook__.ipynb",
   "output_path": "__notebook__.ipynb",
   "parameters": {},
   "start_time": "2020-12-16T19:29:14.463140",
   "version": "2.1.0"
  }
 },
 "nbformat": 4,
 "nbformat_minor": 4
}

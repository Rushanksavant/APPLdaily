{
 "cells": [
  {
   "cell_type": "code",
   "execution_count": 1,
   "metadata": {
    "_cell_guid": "b1076dfc-b9ad-4769-8c92-a6c4dae69d19",
    "_uuid": "8f2839f25d086af736a60e9eeb907d3b93b6e0e5",
    "execution": {
     "iopub.execute_input": "2020-12-15T07:55:24.822901Z",
     "iopub.status.busy": "2020-12-15T07:55:24.821977Z",
     "iopub.status.idle": "2020-12-15T07:55:26.939847Z",
     "shell.execute_reply": "2020-12-15T07:55:26.938843Z"
    },
    "papermill": {
     "duration": 2.151994,
     "end_time": "2020-12-15T07:55:26.940015",
     "exception": false,
     "start_time": "2020-12-15T07:55:24.788021",
     "status": "completed"
    },
    "tags": []
   },
   "outputs": [],
   "source": [
    "# Importing Libraries\n",
    "import numpy as np\n",
    "import pandas as pd\n",
    "import matplotlib.pyplot as plt\n",
    "\n",
    "import re\n",
    "import nltk\n",
    "from nltk.corpus import stopwords # importing 'stopwords' to this notebook\n",
    "from nltk.stem.porter import PorterStemmer ## stemming of words\n",
    "\n",
    "import joblib"
   ]
  },
  {
   "cell_type": "markdown",
   "metadata": {
    "papermill": {
     "duration": 0.020077,
     "end_time": "2020-12-15T07:55:26.985714",
     "exception": false,
     "start_time": "2020-12-15T07:55:26.965637",
     "status": "completed"
    },
    "tags": []
   },
   "source": [
    "# Data Prepration"
   ]
  },
  {
   "cell_type": "code",
   "execution_count": 2,
   "metadata": {
    "execution": {
     "iopub.execute_input": "2020-12-15T07:55:27.049268Z",
     "iopub.status.busy": "2020-12-15T07:55:27.048496Z",
     "iopub.status.idle": "2020-12-15T07:55:27.099499Z",
     "shell.execute_reply": "2020-12-15T07:55:27.098733Z"
    },
    "papermill": {
     "duration": 0.093347,
     "end_time": "2020-12-15T07:55:27.099632",
     "exception": false,
     "start_time": "2020-12-15T07:55:27.006285",
     "status": "completed"
    },
    "tags": []
   },
   "outputs": [
    {
     "data": {
      "text/html": [
       "<div>\n",
       "<style scoped>\n",
       "    .dataframe tbody tr th:only-of-type {\n",
       "        vertical-align: middle;\n",
       "    }\n",
       "\n",
       "    .dataframe tbody tr th {\n",
       "        vertical-align: top;\n",
       "    }\n",
       "\n",
       "    .dataframe thead th {\n",
       "        text-align: right;\n",
       "    }\n",
       "</style>\n",
       "<table border=\"1\" class=\"dataframe\">\n",
       "  <thead>\n",
       "    <tr style=\"text-align: right;\">\n",
       "      <th></th>\n",
       "      <th>Text</th>\n",
       "      <th>Sentiment</th>\n",
       "    </tr>\n",
       "  </thead>\n",
       "  <tbody>\n",
       "    <tr>\n",
       "      <th>0</th>\n",
       "      <td>Kickers on my watchlist XIDE TIT SOQ PNK CPW B...</td>\n",
       "      <td>1</td>\n",
       "    </tr>\n",
       "    <tr>\n",
       "      <th>1</th>\n",
       "      <td>user: AAP MOVIE. 55% return for the FEA/GEED i...</td>\n",
       "      <td>1</td>\n",
       "    </tr>\n",
       "  </tbody>\n",
       "</table>\n",
       "</div>"
      ],
      "text/plain": [
       "                                                Text  Sentiment\n",
       "0  Kickers on my watchlist XIDE TIT SOQ PNK CPW B...          1\n",
       "1  user: AAP MOVIE. 55% return for the FEA/GEED i...          1"
      ]
     },
     "execution_count": 2,
     "metadata": {},
     "output_type": "execute_result"
    }
   ],
   "source": [
    "# 1st Data\n",
    "data1= pd.read_csv('../input/stockmarket-sentiment-dataset/stock_data.csv')\n",
    "data1.head(2)"
   ]
  },
  {
   "cell_type": "code",
   "execution_count": 3,
   "metadata": {
    "_cell_guid": "79c7e3d0-c299-4dcb-8224-4455121ee9b0",
    "_uuid": "d629ff2d2480ee46fbb7e2d37f6b5fab8052498a",
    "execution": {
     "iopub.execute_input": "2020-12-15T07:55:27.152854Z",
     "iopub.status.busy": "2020-12-15T07:55:27.151780Z",
     "iopub.status.idle": "2020-12-15T07:55:27.393441Z",
     "shell.execute_reply": "2020-12-15T07:55:27.392265Z"
    },
    "papermill": {
     "duration": 0.272727,
     "end_time": "2020-12-15T07:55:27.393658",
     "exception": false,
     "start_time": "2020-12-15T07:55:27.120931",
     "status": "completed"
    },
    "tags": []
   },
   "outputs": [
    {
     "name": "stderr",
     "output_type": "stream",
     "text": [
      "/opt/conda/lib/python3.7/site-packages/ipykernel_launcher.py:4: SettingWithCopyWarning: \n",
      "A value is trying to be set on a copy of a slice from a DataFrame\n",
      "\n",
      "See the caveats in the documentation: https://pandas.pydata.org/pandas-docs/stable/user_guide/indexing.html#returning-a-view-versus-a-copy\n",
      "  after removing the cwd from sys.path.\n"
     ]
    },
    {
     "data": {
      "text/html": [
       "<div>\n",
       "<style scoped>\n",
       "    .dataframe tbody tr th:only-of-type {\n",
       "        vertical-align: middle;\n",
       "    }\n",
       "\n",
       "    .dataframe tbody tr th {\n",
       "        vertical-align: top;\n",
       "    }\n",
       "\n",
       "    .dataframe thead th {\n",
       "        text-align: right;\n",
       "    }\n",
       "</style>\n",
       "<table border=\"1\" class=\"dataframe\">\n",
       "  <thead>\n",
       "    <tr style=\"text-align: right;\">\n",
       "      <th></th>\n",
       "      <th>Text</th>\n",
       "      <th>Sentiment</th>\n",
       "    </tr>\n",
       "  </thead>\n",
       "  <tbody>\n",
       "    <tr>\n",
       "      <th>0</th>\n",
       "      <td>Kickers on my watchlist XIDE TIT SOQ PNK CPW B...</td>\n",
       "      <td>1</td>\n",
       "    </tr>\n",
       "    <tr>\n",
       "      <th>1</th>\n",
       "      <td>user: AAP MOVIE. 55% return for the FEA/GEED i...</td>\n",
       "      <td>1</td>\n",
       "    </tr>\n",
       "    <tr>\n",
       "      <th>2</th>\n",
       "      <td>user I'd be afraid to short AMZN - they are lo...</td>\n",
       "      <td>1</td>\n",
       "    </tr>\n",
       "    <tr>\n",
       "      <th>3</th>\n",
       "      <td>MNTA Over 12.00</td>\n",
       "      <td>1</td>\n",
       "    </tr>\n",
       "    <tr>\n",
       "      <th>4</th>\n",
       "      <td>OI  Over 21.37</td>\n",
       "      <td>1</td>\n",
       "    </tr>\n",
       "  </tbody>\n",
       "</table>\n",
       "</div>"
      ],
      "text/plain": [
       "                                                Text  Sentiment\n",
       "0  Kickers on my watchlist XIDE TIT SOQ PNK CPW B...          1\n",
       "1  user: AAP MOVIE. 55% return for the FEA/GEED i...          1\n",
       "2  user I'd be afraid to short AMZN - they are lo...          1\n",
       "3                                  MNTA Over 12.00            1\n",
       "4                                   OI  Over 21.37            1"
      ]
     },
     "metadata": {},
     "output_type": "display_data"
    },
    {
     "data": {
      "text/html": [
       "<div>\n",
       "<style scoped>\n",
       "    .dataframe tbody tr th:only-of-type {\n",
       "        vertical-align: middle;\n",
       "    }\n",
       "\n",
       "    .dataframe tbody tr th {\n",
       "        vertical-align: top;\n",
       "    }\n",
       "\n",
       "    .dataframe thead th {\n",
       "        text-align: right;\n",
       "    }\n",
       "</style>\n",
       "<table border=\"1\" class=\"dataframe\">\n",
       "  <thead>\n",
       "    <tr style=\"text-align: right;\">\n",
       "      <th></th>\n",
       "      <th>Text</th>\n",
       "      <th>Sentiment</th>\n",
       "    </tr>\n",
       "  </thead>\n",
       "  <tbody>\n",
       "    <tr>\n",
       "      <th>5786</th>\n",
       "      <td>Industry body CII said #discoms are likely to ...</td>\n",
       "      <td>0</td>\n",
       "    </tr>\n",
       "    <tr>\n",
       "      <th>5787</th>\n",
       "      <td>#Gold prices slip below Rs 46,000 as #investor...</td>\n",
       "      <td>0</td>\n",
       "    </tr>\n",
       "    <tr>\n",
       "      <th>5788</th>\n",
       "      <td>Workers at Bajaj Auto have agreed to a 10% wag...</td>\n",
       "      <td>1</td>\n",
       "    </tr>\n",
       "    <tr>\n",
       "      <th>5789</th>\n",
       "      <td>#Sharemarket LIVE: Sensex off day’s high, up 6...</td>\n",
       "      <td>1</td>\n",
       "    </tr>\n",
       "    <tr>\n",
       "      <th>5790</th>\n",
       "      <td>#Sensex, #Nifty climb off day's highs, still u...</td>\n",
       "      <td>1</td>\n",
       "    </tr>\n",
       "  </tbody>\n",
       "</table>\n",
       "</div>"
      ],
      "text/plain": [
       "                                                   Text  Sentiment\n",
       "5786  Industry body CII said #discoms are likely to ...          0\n",
       "5787  #Gold prices slip below Rs 46,000 as #investor...          0\n",
       "5788  Workers at Bajaj Auto have agreed to a 10% wag...          1\n",
       "5789  #Sharemarket LIVE: Sensex off day’s high, up 6...          1\n",
       "5790  #Sensex, #Nifty climb off day's highs, still u...          1"
      ]
     },
     "metadata": {},
     "output_type": "display_data"
    }
   ],
   "source": [
    "# Changing (-1) to (0)\n",
    "for i in range(len(data1)):\n",
    "    if data1[\"Sentiment\"][i]== -1:\n",
    "        data1[\"Sentiment\"][i]= 0\n",
    "display(data1.head())\n",
    "display(data1.tail())"
   ]
  },
  {
   "cell_type": "code",
   "execution_count": 4,
   "metadata": {
    "execution": {
     "iopub.execute_input": "2020-12-15T07:55:27.451685Z",
     "iopub.status.busy": "2020-12-15T07:55:27.450423Z",
     "iopub.status.idle": "2020-12-15T07:55:27.455983Z",
     "shell.execute_reply": "2020-12-15T07:55:27.455300Z"
    },
    "papermill": {
     "duration": 0.038271,
     "end_time": "2020-12-15T07:55:27.456146",
     "exception": false,
     "start_time": "2020-12-15T07:55:27.417875",
     "status": "completed"
    },
    "tags": []
   },
   "outputs": [
    {
     "data": {
      "text/plain": [
       "Text         False\n",
       "Sentiment    False\n",
       "dtype: bool"
      ]
     },
     "execution_count": 4,
     "metadata": {},
     "output_type": "execute_result"
    }
   ],
   "source": [
    "# Checking Null values\n",
    "data1.isnull().any()"
   ]
  },
  {
   "cell_type": "code",
   "execution_count": 5,
   "metadata": {
    "execution": {
     "iopub.execute_input": "2020-12-15T07:55:27.510619Z",
     "iopub.status.busy": "2020-12-15T07:55:27.509712Z",
     "iopub.status.idle": "2020-12-15T07:55:27.566586Z",
     "shell.execute_reply": "2020-12-15T07:55:27.565161Z"
    },
    "papermill": {
     "duration": 0.086641,
     "end_time": "2020-12-15T07:55:27.566746",
     "exception": false,
     "start_time": "2020-12-15T07:55:27.480105",
     "status": "completed"
    },
    "tags": []
   },
   "outputs": [
    {
     "data": {
      "text/html": [
       "<div>\n",
       "<style scoped>\n",
       "    .dataframe tbody tr th:only-of-type {\n",
       "        vertical-align: middle;\n",
       "    }\n",
       "\n",
       "    .dataframe tbody tr th {\n",
       "        vertical-align: top;\n",
       "    }\n",
       "\n",
       "    .dataframe thead th {\n",
       "        text-align: right;\n",
       "    }\n",
       "</style>\n",
       "<table border=\"1\" class=\"dataframe\">\n",
       "  <thead>\n",
       "    <tr style=\"text-align: right;\">\n",
       "      <th></th>\n",
       "      <th>Sentiment</th>\n",
       "      <th>Text</th>\n",
       "    </tr>\n",
       "  </thead>\n",
       "  <tbody>\n",
       "    <tr>\n",
       "      <th>0</th>\n",
       "      <td>neutral</td>\n",
       "      <td>According to Gran , the company has no plans t...</td>\n",
       "    </tr>\n",
       "    <tr>\n",
       "      <th>1</th>\n",
       "      <td>neutral</td>\n",
       "      <td>Technopolis plans to develop in stages an area...</td>\n",
       "    </tr>\n",
       "  </tbody>\n",
       "</table>\n",
       "</div>"
      ],
      "text/plain": [
       "  Sentiment                                               Text\n",
       "0   neutral  According to Gran , the company has no plans t...\n",
       "1   neutral  Technopolis plans to develop in stages an area..."
      ]
     },
     "execution_count": 5,
     "metadata": {},
     "output_type": "execute_result"
    }
   ],
   "source": [
    "# 2nd Data\n",
    "data2= pd.read_csv(\"../input/sentiment-analysis-for-financial-news/all-data.csv\", encoding='ISO-8859-1', header=None)\n",
    "data2.columns =['Sentiment' ,'Text']\n",
    "data2.head(2)"
   ]
  },
  {
   "cell_type": "code",
   "execution_count": 6,
   "metadata": {
    "execution": {
     "iopub.execute_input": "2020-12-15T07:55:27.625443Z",
     "iopub.status.busy": "2020-12-15T07:55:27.624677Z",
     "iopub.status.idle": "2020-12-15T07:55:28.098416Z",
     "shell.execute_reply": "2020-12-15T07:55:28.097687Z"
    },
    "papermill": {
     "duration": 0.506997,
     "end_time": "2020-12-15T07:55:28.098592",
     "exception": false,
     "start_time": "2020-12-15T07:55:27.591595",
     "status": "completed"
    },
    "tags": []
   },
   "outputs": [
    {
     "data": {
      "text/html": [
       "<div>\n",
       "<style scoped>\n",
       "    .dataframe tbody tr th:only-of-type {\n",
       "        vertical-align: middle;\n",
       "    }\n",
       "\n",
       "    .dataframe tbody tr th {\n",
       "        vertical-align: top;\n",
       "    }\n",
       "\n",
       "    .dataframe thead th {\n",
       "        text-align: right;\n",
       "    }\n",
       "</style>\n",
       "<table border=\"1\" class=\"dataframe\">\n",
       "  <thead>\n",
       "    <tr style=\"text-align: right;\">\n",
       "      <th></th>\n",
       "      <th>Sentiment</th>\n",
       "      <th>Text</th>\n",
       "    </tr>\n",
       "  </thead>\n",
       "  <tbody>\n",
       "    <tr>\n",
       "      <th>0</th>\n",
       "      <td>2</td>\n",
       "      <td>According to Gran , the company has no plans t...</td>\n",
       "    </tr>\n",
       "    <tr>\n",
       "      <th>1</th>\n",
       "      <td>2</td>\n",
       "      <td>Technopolis plans to develop in stages an area...</td>\n",
       "    </tr>\n",
       "    <tr>\n",
       "      <th>2</th>\n",
       "      <td>0</td>\n",
       "      <td>The international electronic industry company ...</td>\n",
       "    </tr>\n",
       "    <tr>\n",
       "      <th>3</th>\n",
       "      <td>1</td>\n",
       "      <td>With the new production plant the company woul...</td>\n",
       "    </tr>\n",
       "    <tr>\n",
       "      <th>4</th>\n",
       "      <td>1</td>\n",
       "      <td>According to the company 's updated strategy f...</td>\n",
       "    </tr>\n",
       "  </tbody>\n",
       "</table>\n",
       "</div>"
      ],
      "text/plain": [
       "  Sentiment                                               Text\n",
       "0         2  According to Gran , the company has no plans t...\n",
       "1         2  Technopolis plans to develop in stages an area...\n",
       "2         0  The international electronic industry company ...\n",
       "3         1  With the new production plant the company woul...\n",
       "4         1  According to the company 's updated strategy f..."
      ]
     },
     "metadata": {},
     "output_type": "display_data"
    },
    {
     "data": {
      "text/html": [
       "<div>\n",
       "<style scoped>\n",
       "    .dataframe tbody tr th:only-of-type {\n",
       "        vertical-align: middle;\n",
       "    }\n",
       "\n",
       "    .dataframe tbody tr th {\n",
       "        vertical-align: top;\n",
       "    }\n",
       "\n",
       "    .dataframe thead th {\n",
       "        text-align: right;\n",
       "    }\n",
       "</style>\n",
       "<table border=\"1\" class=\"dataframe\">\n",
       "  <thead>\n",
       "    <tr style=\"text-align: right;\">\n",
       "      <th></th>\n",
       "      <th>Sentiment</th>\n",
       "      <th>Text</th>\n",
       "    </tr>\n",
       "  </thead>\n",
       "  <tbody>\n",
       "    <tr>\n",
       "      <th>4841</th>\n",
       "      <td>0</td>\n",
       "      <td>LONDON MarketWatch -- Share prices ended lower...</td>\n",
       "    </tr>\n",
       "    <tr>\n",
       "      <th>4842</th>\n",
       "      <td>2</td>\n",
       "      <td>Rinkuskiai 's beer sales fell by 6.5 per cent ...</td>\n",
       "    </tr>\n",
       "    <tr>\n",
       "      <th>4843</th>\n",
       "      <td>0</td>\n",
       "      <td>Operating profit fell to EUR 35.4 mn from EUR ...</td>\n",
       "    </tr>\n",
       "    <tr>\n",
       "      <th>4844</th>\n",
       "      <td>0</td>\n",
       "      <td>Net sales of the Paper segment decreased to EU...</td>\n",
       "    </tr>\n",
       "    <tr>\n",
       "      <th>4845</th>\n",
       "      <td>0</td>\n",
       "      <td>Sales in Finland decreased by 10.5 % in Januar...</td>\n",
       "    </tr>\n",
       "  </tbody>\n",
       "</table>\n",
       "</div>"
      ],
      "text/plain": [
       "     Sentiment                                               Text\n",
       "4841         0  LONDON MarketWatch -- Share prices ended lower...\n",
       "4842         2  Rinkuskiai 's beer sales fell by 6.5 per cent ...\n",
       "4843         0  Operating profit fell to EUR 35.4 mn from EUR ...\n",
       "4844         0  Net sales of the Paper segment decreased to EU...\n",
       "4845         0  Sales in Finland decreased by 10.5 % in Januar..."
      ]
     },
     "metadata": {},
     "output_type": "display_data"
    }
   ],
   "source": [
    "# Assigning label numbers\n",
    "for i in range(len(data2)):\n",
    "    if data2[\"Sentiment\"][i]== \"neutral\":\n",
    "        data2[\"Sentiment\"][i]= 2\n",
    "        \n",
    "    elif data2[\"Sentiment\"][i]== \"negative\":\n",
    "        data2[\"Sentiment\"][i]= 0\n",
    "        \n",
    "    elif data2[\"Sentiment\"][i]== \"positive\":\n",
    "        data2[\"Sentiment\"][i]= 1\n",
    "        \n",
    "display(data2.head())\n",
    "display(data2.tail())\n",
    "data2= data2[[\"Text\", \"Sentiment\"]]"
   ]
  },
  {
   "cell_type": "code",
   "execution_count": 7,
   "metadata": {
    "execution": {
     "iopub.execute_input": "2020-12-15T07:55:28.173006Z",
     "iopub.status.busy": "2020-12-15T07:55:28.171927Z",
     "iopub.status.idle": "2020-12-15T07:55:28.184391Z",
     "shell.execute_reply": "2020-12-15T07:55:28.183780Z"
    },
    "papermill": {
     "duration": 0.060264,
     "end_time": "2020-12-15T07:55:28.184529",
     "exception": false,
     "start_time": "2020-12-15T07:55:28.124265",
     "status": "completed"
    },
    "tags": []
   },
   "outputs": [
    {
     "data": {
      "text/html": [
       "<div>\n",
       "<style scoped>\n",
       "    .dataframe tbody tr th:only-of-type {\n",
       "        vertical-align: middle;\n",
       "    }\n",
       "\n",
       "    .dataframe tbody tr th {\n",
       "        vertical-align: top;\n",
       "    }\n",
       "\n",
       "    .dataframe thead th {\n",
       "        text-align: right;\n",
       "    }\n",
       "</style>\n",
       "<table border=\"1\" class=\"dataframe\">\n",
       "  <thead>\n",
       "    <tr style=\"text-align: right;\">\n",
       "      <th></th>\n",
       "      <th>Text</th>\n",
       "      <th>Sentiment</th>\n",
       "    </tr>\n",
       "  </thead>\n",
       "  <tbody>\n",
       "    <tr>\n",
       "      <th>0</th>\n",
       "      <td>Kickers on my watchlist XIDE TIT SOQ PNK CPW B...</td>\n",
       "      <td>1</td>\n",
       "    </tr>\n",
       "    <tr>\n",
       "      <th>1</th>\n",
       "      <td>user: AAP MOVIE. 55% return for the FEA/GEED i...</td>\n",
       "      <td>1</td>\n",
       "    </tr>\n",
       "    <tr>\n",
       "      <th>2</th>\n",
       "      <td>user I'd be afraid to short AMZN - they are lo...</td>\n",
       "      <td>1</td>\n",
       "    </tr>\n",
       "    <tr>\n",
       "      <th>3</th>\n",
       "      <td>MNTA Over 12.00</td>\n",
       "      <td>1</td>\n",
       "    </tr>\n",
       "    <tr>\n",
       "      <th>4</th>\n",
       "      <td>OI  Over 21.37</td>\n",
       "      <td>1</td>\n",
       "    </tr>\n",
       "  </tbody>\n",
       "</table>\n",
       "</div>"
      ],
      "text/plain": [
       "                                                Text Sentiment\n",
       "0  Kickers on my watchlist XIDE TIT SOQ PNK CPW B...         1\n",
       "1  user: AAP MOVIE. 55% return for the FEA/GEED i...         1\n",
       "2  user I'd be afraid to short AMZN - they are lo...         1\n",
       "3                                  MNTA Over 12.00           1\n",
       "4                                   OI  Over 21.37           1"
      ]
     },
     "metadata": {},
     "output_type": "display_data"
    },
    {
     "data": {
      "text/html": [
       "<div>\n",
       "<style scoped>\n",
       "    .dataframe tbody tr th:only-of-type {\n",
       "        vertical-align: middle;\n",
       "    }\n",
       "\n",
       "    .dataframe tbody tr th {\n",
       "        vertical-align: top;\n",
       "    }\n",
       "\n",
       "    .dataframe thead th {\n",
       "        text-align: right;\n",
       "    }\n",
       "</style>\n",
       "<table border=\"1\" class=\"dataframe\">\n",
       "  <thead>\n",
       "    <tr style=\"text-align: right;\">\n",
       "      <th></th>\n",
       "      <th>Text</th>\n",
       "      <th>Sentiment</th>\n",
       "    </tr>\n",
       "  </thead>\n",
       "  <tbody>\n",
       "    <tr>\n",
       "      <th>10632</th>\n",
       "      <td>LONDON MarketWatch -- Share prices ended lower...</td>\n",
       "      <td>0</td>\n",
       "    </tr>\n",
       "    <tr>\n",
       "      <th>10633</th>\n",
       "      <td>Rinkuskiai 's beer sales fell by 6.5 per cent ...</td>\n",
       "      <td>2</td>\n",
       "    </tr>\n",
       "    <tr>\n",
       "      <th>10634</th>\n",
       "      <td>Operating profit fell to EUR 35.4 mn from EUR ...</td>\n",
       "      <td>0</td>\n",
       "    </tr>\n",
       "    <tr>\n",
       "      <th>10635</th>\n",
       "      <td>Net sales of the Paper segment decreased to EU...</td>\n",
       "      <td>0</td>\n",
       "    </tr>\n",
       "    <tr>\n",
       "      <th>10636</th>\n",
       "      <td>Sales in Finland decreased by 10.5 % in Januar...</td>\n",
       "      <td>0</td>\n",
       "    </tr>\n",
       "  </tbody>\n",
       "</table>\n",
       "</div>"
      ],
      "text/plain": [
       "                                                    Text Sentiment\n",
       "10632  LONDON MarketWatch -- Share prices ended lower...         0\n",
       "10633  Rinkuskiai 's beer sales fell by 6.5 per cent ...         2\n",
       "10634  Operating profit fell to EUR 35.4 mn from EUR ...         0\n",
       "10635  Net sales of the Paper segment decreased to EU...         0\n",
       "10636  Sales in Finland decreased by 10.5 % in Januar...         0"
      ]
     },
     "metadata": {},
     "output_type": "display_data"
    }
   ],
   "source": [
    "# Joining the 2 datasets\n",
    "data= pd.concat([data1, data2], axis=0, sort=False) # Joining date_lable and tops\n",
    "\n",
    "# Setting New Index for data_new\n",
    "data= data.set_index(i for i in range(0, len(data)))\n",
    "\n",
    "display(data.head())\n",
    "display(data.tail())"
   ]
  },
  {
   "cell_type": "markdown",
   "metadata": {
    "papermill": {
     "duration": 0.026136,
     "end_time": "2020-12-15T07:55:28.238332",
     "exception": false,
     "start_time": "2020-12-15T07:55:28.212196",
     "status": "completed"
    },
    "tags": []
   },
   "source": [
    "# NLP"
   ]
  },
  {
   "cell_type": "code",
   "execution_count": 8,
   "metadata": {
    "execution": {
     "iopub.execute_input": "2020-12-15T07:55:28.301505Z",
     "iopub.status.busy": "2020-12-15T07:55:28.300295Z",
     "iopub.status.idle": "2020-12-15T07:55:28.303481Z",
     "shell.execute_reply": "2020-12-15T07:55:28.302897Z"
    },
    "papermill": {
     "duration": 0.038894,
     "end_time": "2020-12-15T07:55:28.303627",
     "exception": false,
     "start_time": "2020-12-15T07:55:28.264733",
     "status": "completed"
    },
    "tags": []
   },
   "outputs": [],
   "source": [
    "# Cleanig all the news(stacked together)\n",
    "def nlp_preprocess(text):\n",
    "# corpus=[]\n",
    "    news= re.sub('[^a-zA-Z]', ' ', text)\n",
    "    news= news.lower()\n",
    "    news= news.split()\n",
    "    news=[word for word in news if not word in set(stopwords.words('english'))]\n",
    "    pe = PorterStemmer()\n",
    "    news=[pe.stem(word) for word in news if not word in set(stopwords.words('english'))]\n",
    "    news= ' '.join(news)\n",
    "    # corpus.append(news)\n",
    "    return news"
   ]
  },
  {
   "cell_type": "code",
   "execution_count": 9,
   "metadata": {
    "execution": {
     "iopub.execute_input": "2020-12-15T07:55:28.365534Z",
     "iopub.status.busy": "2020-12-15T07:55:28.364625Z",
     "iopub.status.idle": "2020-12-15T07:55:28.369061Z",
     "shell.execute_reply": "2020-12-15T07:55:28.368232Z"
    },
    "papermill": {
     "duration": 0.038393,
     "end_time": "2020-12-15T07:55:28.369236",
     "exception": false,
     "start_time": "2020-12-15T07:55:28.330843",
     "status": "completed"
    },
    "tags": []
   },
   "outputs": [
    {
     "data": {
      "text/plain": [
       "array([1, 1, 1, ..., 0, 0, 0])"
      ]
     },
     "metadata": {},
     "output_type": "display_data"
    }
   ],
   "source": [
    "# Target Variable\n",
    "Y= data[\"Sentiment\"].values\n",
    "Y= Y.astype('int')\n",
    "display(Y)\n",
    "\n",
    "# Input Variable\n",
    "txt= data[\"Text\"].values"
   ]
  },
  {
   "cell_type": "markdown",
   "metadata": {
    "papermill": {
     "duration": 0.027377,
     "end_time": "2020-12-15T07:55:28.425765",
     "exception": false,
     "start_time": "2020-12-15T07:55:28.398388",
     "status": "completed"
    },
    "tags": []
   },
   "source": [
    "# Data Splitting"
   ]
  },
  {
   "cell_type": "code",
   "execution_count": 10,
   "metadata": {
    "execution": {
     "iopub.execute_input": "2020-12-15T07:55:28.484835Z",
     "iopub.status.busy": "2020-12-15T07:55:28.484027Z",
     "iopub.status.idle": "2020-12-15T07:55:28.491174Z",
     "shell.execute_reply": "2020-12-15T07:55:28.491727Z"
    },
    "papermill": {
     "duration": 0.038715,
     "end_time": "2020-12-15T07:55:28.491937",
     "exception": false,
     "start_time": "2020-12-15T07:55:28.453222",
     "status": "completed"
    },
    "tags": []
   },
   "outputs": [],
   "source": [
    "#Spliting Dataset into Training and Test sets\n",
    "from sklearn.model_selection import train_test_split\n",
    "X_train, X_test, Y_train, Y_test= train_test_split(txt, Y, test_size=0.10, random_state=0)"
   ]
  },
  {
   "cell_type": "code",
   "execution_count": 11,
   "metadata": {
    "execution": {
     "iopub.execute_input": "2020-12-15T07:55:28.551117Z",
     "iopub.status.busy": "2020-12-15T07:55:28.550261Z",
     "iopub.status.idle": "2020-12-15T07:56:15.393225Z",
     "shell.execute_reply": "2020-12-15T07:56:15.392514Z"
    },
    "papermill": {
     "duration": 46.873752,
     "end_time": "2020-12-15T07:56:15.393364",
     "exception": false,
     "start_time": "2020-12-15T07:55:28.519612",
     "status": "completed"
    },
    "tags": []
   },
   "outputs": [],
   "source": [
    "# Train data\n",
    "train_corpus= []\n",
    "for i in range(len(X_train)):\n",
    "    train_corpus.append(nlp_preprocess(X_train[i]))\n",
    "    \n",
    "# Test data\n",
    "test_corpus= []\n",
    "for i in range(len(X_test)):\n",
    "    test_corpus.append(nlp_preprocess(X_test[i]))"
   ]
  },
  {
   "cell_type": "code",
   "execution_count": 12,
   "metadata": {
    "execution": {
     "iopub.execute_input": "2020-12-15T07:56:15.489514Z",
     "iopub.status.busy": "2020-12-15T07:56:15.458378Z",
     "iopub.status.idle": "2020-12-15T07:56:15.996308Z",
     "shell.execute_reply": "2020-12-15T07:56:15.995623Z"
    },
    "papermill": {
     "duration": 0.575234,
     "end_time": "2020-12-15T07:56:15.996462",
     "exception": false,
     "start_time": "2020-12-15T07:56:15.421228",
     "status": "completed"
    },
    "tags": []
   },
   "outputs": [],
   "source": [
    "# Creating the Bag of Words model\n",
    "from sklearn.feature_extraction.text import CountVectorizer\n",
    "cv = CountVectorizer(max_features=50000)\n",
    "\n",
    "# Train data\n",
    "trainX = cv.fit_transform(train_corpus).toarray()\n",
    "\n",
    "# Test data\n",
    "testX= cv.transform(test_corpus).toarray()"
   ]
  },
  {
   "cell_type": "code",
   "execution_count": 13,
   "metadata": {
    "execution": {
     "iopub.execute_input": "2020-12-15T07:56:16.058410Z",
     "iopub.status.busy": "2020-12-15T07:56:16.057570Z",
     "iopub.status.idle": "2020-12-15T07:56:16.061548Z",
     "shell.execute_reply": "2020-12-15T07:56:16.060746Z"
    },
    "papermill": {
     "duration": 0.037636,
     "end_time": "2020-12-15T07:56:16.061690",
     "exception": false,
     "start_time": "2020-12-15T07:56:16.024054",
     "status": "completed"
    },
    "tags": []
   },
   "outputs": [],
   "source": [
    "X_train= trainX\n",
    "X_test= testX"
   ]
  },
  {
   "cell_type": "code",
   "execution_count": 14,
   "metadata": {
    "execution": {
     "iopub.execute_input": "2020-12-15T07:56:16.248588Z",
     "iopub.status.busy": "2020-12-15T07:56:16.128840Z",
     "iopub.status.idle": "2020-12-15T07:56:16.578472Z",
     "shell.execute_reply": "2020-12-15T07:56:16.577736Z"
    },
    "papermill": {
     "duration": 0.489126,
     "end_time": "2020-12-15T07:56:16.578623",
     "exception": false,
     "start_time": "2020-12-15T07:56:16.089497",
     "status": "completed"
    },
    "tags": []
   },
   "outputs": [
    {
     "data": {
      "text/plain": [
       "['cv_model.pkl']"
      ]
     },
     "execution_count": 14,
     "metadata": {},
     "output_type": "execute_result"
    }
   ],
   "source": [
    "# Saving TF-IDF model for future\n",
    "joblib.dump(cv, 'cv_model.pkl')"
   ]
  },
  {
   "cell_type": "markdown",
   "metadata": {
    "papermill": {
     "duration": 0.028941,
     "end_time": "2020-12-15T07:56:16.638402",
     "exception": false,
     "start_time": "2020-12-15T07:56:16.609461",
     "status": "completed"
    },
    "tags": []
   },
   "source": [
    "# Classification Algorithms"
   ]
  },
  {
   "cell_type": "code",
   "execution_count": 15,
   "metadata": {
    "execution": {
     "iopub.execute_input": "2020-12-15T07:56:16.707933Z",
     "iopub.status.busy": "2020-12-15T07:56:16.707058Z",
     "iopub.status.idle": "2020-12-15T08:04:06.640665Z",
     "shell.execute_reply": "2020-12-15T08:04:06.638813Z"
    },
    "papermill": {
     "duration": 469.972151,
     "end_time": "2020-12-15T08:04:06.640824",
     "exception": false,
     "start_time": "2020-12-15T07:56:16.668673",
     "status": "completed"
    },
    "tags": []
   },
   "outputs": [
    {
     "data": {
      "text/plain": [
       "array([1, 2, 1, ..., 0, 1, 1])"
      ]
     },
     "metadata": {},
     "output_type": "display_data"
    },
    {
     "data": {
      "text/plain": [
       "array([[149,  83,  27],\n",
       "       [ 51, 376,  92],\n",
       "       [  3,  43, 240]])"
      ]
     },
     "metadata": {},
     "output_type": "display_data"
    },
    {
     "data": {
      "text/plain": [
       "0.7966616084977238"
      ]
     },
     "metadata": {},
     "output_type": "display_data"
    }
   ],
   "source": [
    "# Random Forest\n",
    "from sklearn.ensemble import RandomForestClassifier \n",
    "classifier= RandomForestClassifier(n_estimators= 500, criterion= 'entropy', random_state= 0) \n",
    "classifier.fit(X_train, Y_train)\n",
    "\n",
    "# Predicting the test set result\n",
    "y_pred= classifier.predict(X_test)\n",
    "display(y_pred)\n",
    "\n",
    "# Making the Confusion matrix\n",
    "from sklearn.metrics import confusion_matrix\n",
    "cm= confusion_matrix(Y_test, y_pred)\n",
    "display(cm)\n",
    "\n",
    "Accuracy= (cm[0][0] + cm[1][1])/(cm[0][0] + cm[1][1] + cm[0][1] + cm[1][0])\n",
    "display(Accuracy)"
   ]
  },
  {
   "cell_type": "code",
   "execution_count": 16,
   "metadata": {
    "execution": {
     "iopub.execute_input": "2020-12-15T08:04:06.712455Z",
     "iopub.status.busy": "2020-12-15T08:04:06.711599Z",
     "iopub.status.idle": "2020-12-15T08:05:03.396062Z",
     "shell.execute_reply": "2020-12-15T08:05:03.391807Z"
    },
    "papermill": {
     "duration": 56.724849,
     "end_time": "2020-12-15T08:05:03.396385",
     "exception": false,
     "start_time": "2020-12-15T08:04:06.671536",
     "status": "completed"
    },
    "tags": []
   },
   "outputs": [
    {
     "data": {
      "text/plain": [
       "array([1, 2, 1, ..., 0, 1, 1])"
      ]
     },
     "metadata": {},
     "output_type": "display_data"
    },
    {
     "data": {
      "text/plain": [
       "array([[150,  87,  22],\n",
       "       [ 70, 373,  76],\n",
       "       [ 17,  61, 208]])"
      ]
     },
     "metadata": {},
     "output_type": "display_data"
    },
    {
     "data": {
      "text/plain": [
       "0.7691176470588236"
      ]
     },
     "metadata": {},
     "output_type": "display_data"
    }
   ],
   "source": [
    "# Decision Tree  \n",
    "from sklearn.tree import DecisionTreeClassifier\n",
    "classifier= DecisionTreeClassifier(criterion= 'entropy', random_state= 0)\n",
    "classifier.fit(X_train, Y_train)\n",
    "\n",
    "# Predicting the test set result\n",
    "y_pred= classifier.predict(X_test)\n",
    "display(y_pred)\n",
    "\n",
    "# Making the Confusion matrix\n",
    "from sklearn.metrics import confusion_matrix\n",
    "cm= confusion_matrix(Y_test, y_pred)\n",
    "display(cm)\n",
    "\n",
    "Accuracy= (cm[0][0] + cm[1][1])/(cm[0][0] + cm[1][1] + cm[0][1] + cm[1][0])\n",
    "display(Accuracy)"
   ]
  },
  {
   "cell_type": "code",
   "execution_count": 17,
   "metadata": {
    "execution": {
     "iopub.execute_input": "2020-12-15T08:05:03.501864Z",
     "iopub.status.busy": "2020-12-15T08:05:03.500251Z",
     "iopub.status.idle": "2020-12-15T08:05:08.127297Z",
     "shell.execute_reply": "2020-12-15T08:05:08.126613Z"
    },
    "papermill": {
     "duration": 4.678405,
     "end_time": "2020-12-15T08:05:08.127468",
     "exception": false,
     "start_time": "2020-12-15T08:05:03.449063",
     "status": "completed"
    },
    "tags": []
   },
   "outputs": [
    {
     "data": {
      "text/plain": [
       "array([1, 2, 1, ..., 0, 1, 1])"
      ]
     },
     "metadata": {},
     "output_type": "display_data"
    },
    {
     "data": {
      "text/plain": [
       "array([[ 89, 165,   5],\n",
       "       [ 40, 451,  28],\n",
       "       [  4, 227,  55]])"
      ]
     },
     "metadata": {},
     "output_type": "display_data"
    },
    {
     "data": {
      "text/plain": [
       "0.7248322147651006"
      ]
     },
     "metadata": {},
     "output_type": "display_data"
    }
   ],
   "source": [
    "# KNN\n",
    "from sklearn.neighbors import KNeighborsClassifier\n",
    "classifier= KNeighborsClassifier(n_neighbors= 7, metric='minkowski', p=2, leaf_size=70, weights= 'distance', algorithm= 'brute')\n",
    "classifier.fit(X_train, Y_train)\n",
    "\n",
    "# Predicting the test set result\n",
    "y_pred= classifier.predict(X_test)\n",
    "display(y_pred)\n",
    "\n",
    "# Making the Confusion matrix\n",
    "from sklearn.metrics import confusion_matrix\n",
    "cm= confusion_matrix(Y_test, y_pred)\n",
    "display(cm)\n",
    "\n",
    "Accuracy= (cm[0][0] + cm[1][1])/(cm[0][0] + cm[1][1] + cm[0][1] + cm[1][0])\n",
    "display(Accuracy)"
   ]
  },
  {
   "cell_type": "code",
   "execution_count": 18,
   "metadata": {
    "execution": {
     "iopub.execute_input": "2020-12-15T08:05:08.209779Z",
     "iopub.status.busy": "2020-12-15T08:05:08.207927Z",
     "iopub.status.idle": "2020-12-15T08:25:58.894152Z",
     "shell.execute_reply": "2020-12-15T08:25:58.891916Z"
    },
    "papermill": {
     "duration": 1250.730558,
     "end_time": "2020-12-15T08:25:58.894349",
     "exception": false,
     "start_time": "2020-12-15T08:05:08.163791",
     "status": "completed"
    },
    "tags": []
   },
   "outputs": [
    {
     "data": {
      "text/plain": [
       "array([1, 2, 0, ..., 0, 1, 1])"
      ]
     },
     "metadata": {},
     "output_type": "display_data"
    },
    {
     "data": {
      "text/plain": [
       "array([[127, 115,  17],\n",
       "       [ 44, 418,  57],\n",
       "       [  2, 135, 149]])"
      ]
     },
     "metadata": {},
     "output_type": "display_data"
    },
    {
     "data": {
      "text/plain": [
       "0.7741477272727273"
      ]
     },
     "metadata": {},
     "output_type": "display_data"
    }
   ],
   "source": [
    "# Gradient Boosting\n",
    "from sklearn.ensemble import GradientBoostingClassifier\n",
    "classifier = GradientBoostingClassifier()\n",
    "classifier = classifier.fit(X_train, Y_train)\n",
    "\n",
    "# Predicting the test set result\n",
    "y_pred= classifier.predict(X_test)\n",
    "display(y_pred)\n",
    "\n",
    "# Making the Confusion matrix\n",
    "from sklearn.metrics import confusion_matrix\n",
    "cm= confusion_matrix(Y_test, y_pred)\n",
    "display(cm)\n",
    "\n",
    "Accuracy= (cm[0][0] + cm[1][1])/(cm[0][0] + cm[1][1] + cm[0][1] + cm[1][0])\n",
    "display(Accuracy)"
   ]
  },
  {
   "cell_type": "code",
   "execution_count": 19,
   "metadata": {
    "execution": {
     "iopub.execute_input": "2020-12-15T08:25:58.978567Z",
     "iopub.status.busy": "2020-12-15T08:25:58.976838Z",
     "iopub.status.idle": "2020-12-15T08:26:29.456593Z",
     "shell.execute_reply": "2020-12-15T08:26:29.454960Z"
    },
    "papermill": {
     "duration": 30.525217,
     "end_time": "2020-12-15T08:26:29.456734",
     "exception": false,
     "start_time": "2020-12-15T08:25:58.931517",
     "status": "completed"
    },
    "tags": []
   },
   "outputs": [
    {
     "data": {
      "text/plain": [
       "array([1, 2, 1, ..., 0, 1, 0])"
      ]
     },
     "metadata": {},
     "output_type": "display_data"
    },
    {
     "data": {
      "text/plain": [
       "array([[172,  72,  15],\n",
       "       [ 71, 387,  61],\n",
       "       [ 22,  52, 212]])"
      ]
     },
     "metadata": {},
     "output_type": "display_data"
    },
    {
     "data": {
      "text/plain": [
       "0.7962962962962963"
      ]
     },
     "metadata": {},
     "output_type": "display_data"
    }
   ],
   "source": [
    "# SGDC\n",
    "from sklearn.linear_model import SGDClassifier\n",
    "classifier = SGDClassifier(loss='modified_huber', random_state=0, shuffle=True)\n",
    "classifier = classifier.fit(X_train, Y_train)\n",
    "\n",
    "# Predicting the test set result\n",
    "y_pred= classifier.predict(X_test)\n",
    "display(y_pred)\n",
    "\n",
    "# Making the Confusion matrix\n",
    "from sklearn.metrics import confusion_matrix\n",
    "cm= confusion_matrix(Y_test, y_pred)\n",
    "display(cm)\n",
    "\n",
    "Accuracy= (cm[0][0] + cm[1][1])/(cm[0][0] + cm[1][1] + cm[0][1] + cm[1][0])\n",
    "display(Accuracy)"
   ]
  },
  {
   "cell_type": "code",
   "execution_count": 20,
   "metadata": {
    "execution": {
     "iopub.execute_input": "2020-12-15T08:26:29.537805Z",
     "iopub.status.busy": "2020-12-15T08:26:29.537016Z",
     "iopub.status.idle": "2020-12-15T08:26:34.705745Z",
     "shell.execute_reply": "2020-12-15T08:26:34.706405Z"
    },
    "papermill": {
     "duration": 5.214042,
     "end_time": "2020-12-15T08:26:34.706600",
     "exception": false,
     "start_time": "2020-12-15T08:26:29.492558",
     "status": "completed"
    },
    "tags": []
   },
   "outputs": [
    {
     "data": {
      "text/plain": [
       "array([1, 2, 1, ..., 0, 1, 1])"
      ]
     },
     "metadata": {},
     "output_type": "display_data"
    },
    {
     "data": {
      "text/plain": [
       "array([[155,  79,  25],\n",
       "       [ 53, 368,  98],\n",
       "       [ 10,  30, 246]])"
      ]
     },
     "metadata": {},
     "output_type": "display_data"
    },
    {
     "data": {
      "text/plain": [
       "0.7984732824427481"
      ]
     },
     "metadata": {},
     "output_type": "display_data"
    }
   ],
   "source": [
    "# Multinomial NB\n",
    "from sklearn.naive_bayes import MultinomialNB\n",
    "classifier=MultinomialNB()\n",
    "classifier.fit(X_train, Y_train)\n",
    "\n",
    "# Predicting the test set result\n",
    "y_pred= classifier.predict(X_test)\n",
    "display(y_pred)\n",
    "\n",
    "# Making the Confusion matrix\n",
    "from sklearn.metrics import confusion_matrix\n",
    "cm= confusion_matrix(Y_test, y_pred)\n",
    "display(cm)\n",
    "\n",
    "Accuracy= (cm[0][0] + cm[1][1])/(cm[0][0] + cm[1][1] + cm[0][1] + cm[1][0])\n",
    "display(Accuracy)"
   ]
  },
  {
   "cell_type": "markdown",
   "metadata": {
    "papermill": {
     "duration": 0.036615,
     "end_time": "2020-12-15T08:26:34.781142",
     "exception": false,
     "start_time": "2020-12-15T08:26:34.744527",
     "status": "completed"
    },
    "tags": []
   },
   "source": [
    "Multinomial NB Classifier gave the best test accuracy"
   ]
  },
  {
   "cell_type": "code",
   "execution_count": 21,
   "metadata": {
    "execution": {
     "iopub.execute_input": "2020-12-15T08:26:34.861368Z",
     "iopub.status.busy": "2020-12-15T08:26:34.860554Z",
     "iopub.status.idle": "2020-12-15T08:26:34.870846Z",
     "shell.execute_reply": "2020-12-15T08:26:34.871508Z"
    },
    "papermill": {
     "duration": 0.053504,
     "end_time": "2020-12-15T08:26:34.871693",
     "exception": false,
     "start_time": "2020-12-15T08:26:34.818189",
     "status": "completed"
    },
    "tags": []
   },
   "outputs": [
    {
     "data": {
      "text/plain": [
       "['Txt_sentiment.pkl']"
      ]
     },
     "execution_count": 21,
     "metadata": {},
     "output_type": "execute_result"
    }
   ],
   "source": [
    "# Saving the GradientBoostingClassifier for future\n",
    "joblib.dump(classifier, \"Txt_sentiment.pkl\")"
   ]
  },
  {
   "cell_type": "markdown",
   "metadata": {
    "papermill": {
     "duration": 0.037856,
     "end_time": "2020-12-15T08:26:34.948506",
     "exception": false,
     "start_time": "2020-12-15T08:26:34.910650",
     "status": "completed"
    },
    "tags": []
   },
   "source": [
    "# Predicting Class Probablities"
   ]
  },
  {
   "cell_type": "code",
   "execution_count": 22,
   "metadata": {
    "execution": {
     "iopub.execute_input": "2020-12-15T08:26:35.034612Z",
     "iopub.status.busy": "2020-12-15T08:26:35.033684Z",
     "iopub.status.idle": "2020-12-15T08:26:35.068495Z",
     "shell.execute_reply": "2020-12-15T08:26:35.069152Z"
    },
    "papermill": {
     "duration": 0.082584,
     "end_time": "2020-12-15T08:26:35.069345",
     "exception": false,
     "start_time": "2020-12-15T08:26:34.986761",
     "status": "completed"
    },
    "tags": []
   },
   "outputs": [],
   "source": [
    "# for probabilities\n",
    "l= classifier.predict_proba(X_test)"
   ]
  },
  {
   "cell_type": "code",
   "execution_count": 23,
   "metadata": {
    "execution": {
     "iopub.execute_input": "2020-12-15T08:26:35.154418Z",
     "iopub.status.busy": "2020-12-15T08:26:35.153220Z",
     "iopub.status.idle": "2020-12-15T08:26:35.160263Z",
     "shell.execute_reply": "2020-12-15T08:26:35.161001Z"
    },
    "papermill": {
     "duration": 0.052005,
     "end_time": "2020-12-15T08:26:35.161226",
     "exception": false,
     "start_time": "2020-12-15T08:26:35.109221",
     "status": "completed"
    },
    "tags": []
   },
   "outputs": [
    {
     "data": {
      "text/plain": [
       "array([8.84129130e-05, 2.15854840e-03, 9.97753039e-01])"
      ]
     },
     "execution_count": 23,
     "metadata": {},
     "output_type": "execute_result"
    }
   ],
   "source": [
    "l[1]"
   ]
  },
  {
   "cell_type": "markdown",
   "metadata": {
    "papermill": {
     "duration": 0.043037,
     "end_time": "2020-12-15T08:26:35.248376",
     "exception": false,
     "start_time": "2020-12-15T08:26:35.205339",
     "status": "completed"
    },
    "tags": []
   },
   "source": [
    "**Classes:-** 0,1,2 i.e (negative), (positive), (nutral)"
   ]
  },
  {
   "cell_type": "code",
   "execution_count": 24,
   "metadata": {
    "execution": {
     "iopub.execute_input": "2020-12-15T08:26:35.330395Z",
     "iopub.status.busy": "2020-12-15T08:26:35.329273Z",
     "iopub.status.idle": "2020-12-15T08:26:35.344742Z",
     "shell.execute_reply": "2020-12-15T08:26:35.344057Z"
    },
    "papermill": {
     "duration": 0.057093,
     "end_time": "2020-12-15T08:26:35.344906",
     "exception": false,
     "start_time": "2020-12-15T08:26:35.287813",
     "status": "completed"
    },
    "tags": []
   },
   "outputs": [
    {
     "data": {
      "text/plain": [
       "array([[8.84129130e-05, 2.15854840e-03, 9.97753039e-01]])"
      ]
     },
     "metadata": {},
     "output_type": "display_data"
    }
   ],
   "source": [
    "l_1= classifier.predict_proba(X_test[1].reshape(1, -1))\n",
    "display(l_1)"
   ]
  },
  {
   "cell_type": "code",
   "execution_count": 25,
   "metadata": {
    "execution": {
     "iopub.execute_input": "2020-12-15T08:26:35.432981Z",
     "iopub.status.busy": "2020-12-15T08:26:35.431619Z",
     "iopub.status.idle": "2020-12-15T08:26:35.436897Z",
     "shell.execute_reply": "2020-12-15T08:26:35.437419Z"
    },
    "papermill": {
     "duration": 0.05315,
     "end_time": "2020-12-15T08:26:35.437615",
     "exception": false,
     "start_time": "2020-12-15T08:26:35.384465",
     "status": "completed"
    },
    "tags": []
   },
   "outputs": [
    {
     "data": {
      "text/plain": [
       "array([[False, False,  True]])"
      ]
     },
     "execution_count": 25,
     "metadata": {},
     "output_type": "execute_result"
    }
   ],
   "source": [
    "l_1==l[1]"
   ]
  },
  {
   "cell_type": "code",
   "execution_count": 26,
   "metadata": {
    "execution": {
     "iopub.execute_input": "2020-12-15T08:26:35.522821Z",
     "iopub.status.busy": "2020-12-15T08:26:35.521661Z",
     "iopub.status.idle": "2020-12-15T08:26:35.530224Z",
     "shell.execute_reply": "2020-12-15T08:26:35.530913Z"
    },
    "papermill": {
     "duration": 0.052967,
     "end_time": "2020-12-15T08:26:35.531125",
     "exception": false,
     "start_time": "2020-12-15T08:26:35.478158",
     "status": "completed"
    },
    "tags": []
   },
   "outputs": [
    {
     "data": {
      "text/plain": [
       "8.841291303043169e-05"
      ]
     },
     "execution_count": 26,
     "metadata": {},
     "output_type": "execute_result"
    }
   ],
   "source": [
    "k= classifier.predict_proba(X_test[1].reshape(1, -1))\n",
    "k[0][0]"
   ]
  }
 ],
 "metadata": {
  "kernelspec": {
   "display_name": "Python 3",
   "language": "python",
   "name": "python3"
  },
  "language_info": {
   "codemirror_mode": {
    "name": "ipython",
    "version": 3
   },
   "file_extension": ".py",
   "mimetype": "text/x-python",
   "name": "python",
   "nbconvert_exporter": "python",
   "pygments_lexer": "ipython3",
   "version": "3.7.6"
  },
  "papermill": {
   "duration": 1876.078781,
   "end_time": "2020-12-15T08:26:35.682497",
   "environment_variables": {},
   "exception": null,
   "input_path": "__notebook__.ipynb",
   "output_path": "__notebook__.ipynb",
   "parameters": {},
   "start_time": "2020-12-15T07:55:19.603716",
   "version": "2.1.0"
  }
 },
 "nbformat": 4,
 "nbformat_minor": 4
}
